{
 "cells": [
  {
   "cell_type": "markdown",
   "id": "89ed124f",
   "metadata": {},
   "source": [
    "### Basis MuJoCo usage using `mjd_transitionFD`"
   ]
  },
  {
   "cell_type": "code",
   "execution_count": 1,
   "id": "b98a09a9",
   "metadata": {},
   "outputs": [
    {
     "name": "stdout",
     "output_type": "stream",
     "text": [
      "MuJoCo version:[2.3.6]\n"
     ]
    }
   ],
   "source": [
    "import mujoco\n",
    "import numpy as np\n",
    "import matplotlib.pyplot as plt\n",
    "from mujoco_parser import MuJoCoParserClass\n",
    "np.set_printoptions(precision=2,suppress=True,linewidth=100)\n",
    "plt.rc('xtick',labelsize=6); plt.rc('ytick',labelsize=6)\n",
    "%config InlineBackend.figure_format = 'retina'\n",
    "%matplotlib inline\n",
    "print (\"MuJoCo version:[%s]\"%(mujoco.__version__))"
   ]
  },
  {
   "cell_type": "markdown",
   "id": "c645ec01",
   "metadata": {},
   "source": [
    "### Parse `scene_ur5e_rg2_with_sensor.xml`"
   ]
  },
  {
   "cell_type": "code",
   "execution_count": 2,
   "id": "2b11fc75",
   "metadata": {
    "scrolled": true
   },
   "outputs": [
    {
     "name": "stdout",
     "output_type": "stream",
     "text": [
      "dt:[0.0020] HZ:[500]\n",
      "n_dof (=nv):[12]\n",
      "n_geom:[41]\n",
      "geom_names:['floor', None, None, None, None, None, None, None, None, None, None, None, None, None, None, None, None, None, None, None, None, None, None, None, None, None, None, None, None, None, None, None, None, None, None, None, None, None, None, None, None]\n",
      "n_body:[18]\n",
      "body_names:['world', 'base', 'shoulder_link', 'upper_arm_link', 'forearm_link', 'wrist_1_link', 'wrist_2_link', 'wrist_3_link', 'tcp_link', 'camera_mount', 'rg2_gripper_base_link', 'camera_center', 'rg2_gripper_finger1_finger_link', 'rg2_gripper_finger1_inner_knuckle_link', 'rg2_gripper_finger1_finger_tip_link', 'rg2_gripper_finger2_finger_link', 'rg2_gripper_finger2_inner_knuckle_link', 'rg2_gripper_finger2_finger_tip_link']\n",
      "n_joint:[12]\n",
      "joint_names:['shoulder_pan_joint', 'shoulder_lift_joint', 'elbow_joint', 'wrist_1_joint', 'wrist_2_joint', 'wrist_3_joint', 'gripper_finger1_joint', 'gripper_finger1_inner_knuckle_joint', 'gripper_finger1_finger_tip_joint', 'gripper_finger2_joint', 'gripper_finger2_inner_knuckle_joint', 'gripper_finger2_finger_tip_joint']\n",
      "joint_types:[3 3 3 3 3 3 3 3 3 3 3 3]\n",
      "joint_ranges:\n",
      "[[-6.28  6.28]\n",
      " [-6.28  6.28]\n",
      " [-3.14  3.14]\n",
      " [-6.28  6.28]\n",
      " [-6.28  6.28]\n",
      " [-6.28  6.28]\n",
      " [-1.    0.  ]\n",
      " [-1.    0.  ]\n",
      " [-1.    1.  ]\n",
      " [ 0.    1.  ]\n",
      " [ 0.    1.  ]\n",
      " [-1.    1.  ]]\n",
      "n_rev_joint:[12]\n",
      "rev_joint_idxs:[ 0  1  2  3  4  5  6  7  8  9 10 11]\n",
      "rev_joint_names:['shoulder_pan_joint', 'shoulder_lift_joint', 'elbow_joint', 'wrist_1_joint', 'wrist_2_joint', 'wrist_3_joint', 'gripper_finger1_joint', 'gripper_finger1_inner_knuckle_joint', 'gripper_finger1_finger_tip_joint', 'gripper_finger2_joint', 'gripper_finger2_inner_knuckle_joint', 'gripper_finger2_finger_tip_joint']\n",
      "rev_joint_mins:[-6.28 -6.28 -3.14 -6.28 -6.28 -6.28 -1.   -1.   -1.    0.    0.   -1.  ]\n",
      "rev_joint_maxs:[6.28 6.28 3.14 6.28 6.28 6.28 0.   0.   1.   1.   1.   1.  ]\n",
      "rev_joint_ranges:[12.57 12.57  6.28 12.57 12.57 12.57  1.    1.    2.    1.    1.    2.  ]\n",
      "n_pri_joint:[0]\n",
      "pri_joint_idxs:[]\n",
      "pri_joint_names:[]\n",
      "pri_joint_mins:[]\n",
      "pri_joint_maxs:[]\n",
      "pri_joint_ranges:[]\n",
      "n_ctrl:[7]\n",
      "ctrl_names:['shoulder_pan', 'shoulder_lift', 'elbow', 'wrist_1', 'wrist_2', 'wrist_3', 'gripper']\n",
      "ctrl_joint_idxs:[0, 1, 2, 3, 4, 5, 9]\n",
      "ctrl_joint_names:['shoulder_pan_joint', 'shoulder_lift_joint', 'elbow_joint', 'wrist_1_joint', 'wrist_2_joint', 'wrist_3_joint', 'gripper_finger2_joint']\n",
      "ctrl_qvel_idxs:[0, 1, 2, 3, 4, 5, 9]\n",
      "ctrl_ranges:\n",
      "[[-6.28  6.28]\n",
      " [-6.28  6.28]\n",
      " [-3.14  3.14]\n",
      " [-6.28  6.28]\n",
      " [-6.28  6.28]\n",
      " [-6.28  6.28]\n",
      " [ 0.    1.  ]]\n",
      "n_sensor:[2]\n",
      "sensor_names:['ee_pos_err_1', 'ee_pos_err_2']\n",
      "n_site:[1]\n",
      "site_names:['attachment_site']\n"
     ]
    }
   ],
   "source": [
    "xml_path = '../asset/ur5e/scene_ur5e_rg2_with_sensor.xml'\n",
    "env = MuJoCoParserClass(name='UR5e',rel_xml_path=xml_path,VERBOSE=True)\n",
    "env.reset()"
   ]
  },
  {
   "cell_type": "code",
   "execution_count": null,
   "id": "cb27cf3d",
   "metadata": {},
   "outputs": [],
   "source": []
  },
  {
   "cell_type": "markdown",
   "id": "dd216eed",
   "metadata": {},
   "source": [
    "### Set sensor callback function"
   ]
  },
  {
   "cell_type": "code",
   "execution_count": 3,
   "id": "83bb218b",
   "metadata": {},
   "outputs": [],
   "source": [
    "def sensor_callback(model,data,stage):\n",
    "    \"\"\"\n",
    "        Sensor callback function\n",
    "    \"\"\"\n",
    "    # Get target\n",
    "    target_1 = model.sensor('ee_pos_err_1').user\n",
    "    target_2 = model.sensor('ee_pos_err_2').user\n",
    "    \n",
    "    # Get position\n",
    "    pos_1 = data.body('tcp_link').xpos.copy()\n",
    "    pos_2 = data.body('tcp_link').xpos.copy()\n",
    "    \n",
    "    # Append\n",
    "    data.sensordata[0] = np.linalg.norm(target_1-pos_1)\n",
    "    data.sensordata[1] = np.linalg.norm(target_2-pos_2)\n",
    "    \n",
    "    # Print\n",
    "    VERBOSE = False\n",
    "    if VERBOSE:\n",
    "        print (\"target_1:%s\"%(target_1))\n",
    "        print (\"target_2:%s\"%(target_2))\n",
    "        print (\"pos_1:%s\"%(pos_1))\n",
    "        print (\"pos_2:%s\"%(pos_2))\n",
    "\n",
    "mujoco.set_mjcb_sensor(sensor_callback)"
   ]
  },
  {
   "cell_type": "code",
   "execution_count": 4,
   "id": "d67bd60d",
   "metadata": {},
   "outputs": [
    {
     "name": "stdout",
     "output_type": "stream",
     "text": [
      "24 2 7\n"
     ]
    }
   ],
   "source": [
    "dim_state  = env.model.nv + env.model.nv + env.model.na # qpos, qvel, na? \n",
    "dim_sensor = env.model.nsensordata\n",
    "dim_action = env.model.nu\n",
    "print (dim_state,dim_sensor,dim_action)"
   ]
  },
  {
   "cell_type": "code",
   "execution_count": 6,
   "id": "27d3051f",
   "metadata": {},
   "outputs": [
    {
     "name": "stdout",
     "output_type": "stream",
     "text": [
      "Pressed ESC\n",
      "Quitting.\n",
      "Done.\n"
     ]
    }
   ],
   "source": [
    "env.init_viewer(viewer_title='UR5e with RG2',viewer_width=1200,viewer_height=800,\n",
    "                viewer_hide_menus=True)\n",
    "env.update_viewer(azimuth=174.08,distance=2.76,elevation=-33,lookat=[0.1,0.05,0.16],\n",
    "                  VIS_TRANSPARENT=True,VIS_CONTACTPOINT=True,\n",
    "                  contactwidth=0.05,contactheight=0.05,contactrgba=np.array([1,0,0,1]),\n",
    "                  VIS_JOINT=True,jointlength=0.5,jointwidth=0.1,\n",
    "                  jointrgba=[0.2,0.6,0.8,0.6])\n",
    "env.reset()\n",
    "\n",
    "# Get initial joint information\n",
    "joint_names = [\n",
    "    'shoulder_pan_joint','shoulder_lift_joint','elbow_joint',\n",
    "    'wrist_1_joint','wrist_2_joint','wrist_3_joint']\n",
    "idxs_fwd = env.get_idxs_fwd(joint_names)\n",
    "q = env.get_qpos_joints(joint_names)\n",
    "\n",
    "# Set target position\n",
    "p_trgt = np.array([0.1,0.4,0.98])\n",
    "\n",
    "while env.is_viewer_alive():\n",
    "    \n",
    "    # Set target\n",
    "    env.model.sensor('ee_pos_err_1').user = p_trgt\n",
    "    \n",
    "    # Run 'mjd_transitionFD' to solve IK!\n",
    "    A = np.zeros((dim_state,dim_state),dtype=np.double)\n",
    "    B = np.zeros((dim_state,dim_action),dtype=np.double)\n",
    "    C = np.zeros((dim_sensor,dim_state),dtype=np.double)\n",
    "    D = np.zeros((dim_sensor,dim_action),dtype=np.double)\n",
    "    fd_tol  = 0.1 # 1e-8\n",
    "    fd_mode = 2   # 0: one-sided, 1: centered\n",
    "    mujoco.mjd_transitionFD(\n",
    "        env.model,\n",
    "        env.data,\n",
    "        fd_tol,\n",
    "        fd_mode,\n",
    "        A, # dx'/dx\n",
    "        B, # dx'/du\n",
    "        C, # ds/dx\n",
    "        D, # ds/du\n",
    "        )\n",
    "    \n",
    "    # Probe\n",
    "    VERBOSE = False\n",
    "    if VERBOSE:\n",
    "        print (env.data.sensordata)\n",
    "        print (C)\n",
    "        print (D)\n",
    "    \n",
    "    # Step\n",
    "    q = q - 0.01*C[0,:6]\n",
    "    env.forward(q=q,joint_idxs=idxs_fwd)\n",
    "    \n",
    "    # Render\n",
    "    env.plot_T(p=np.zeros(3),R=np.eye(3,3),PLOT_AXIS=True,axis_len=1.0,axis_width=0.01)\n",
    "    env.plot_sphere(p=p_trgt,r=0.05,rgba=[1,0,0,0.1])\n",
    "    env.plot_contact_info()\n",
    "    env.render(render_every=5)\n",
    "env.close_viewer()\n",
    "print (\"Done.\")"
   ]
  },
  {
   "cell_type": "code",
   "execution_count": null,
   "id": "da7d58b6",
   "metadata": {},
   "outputs": [],
   "source": []
  },
  {
   "cell_type": "code",
   "execution_count": null,
   "id": "d3a965b3",
   "metadata": {},
   "outputs": [],
   "source": []
  }
 ],
 "metadata": {
  "kernelspec": {
   "display_name": "Python 3 (ipykernel)",
   "language": "python",
   "name": "python3"
  },
  "language_info": {
   "codemirror_mode": {
    "name": "ipython",
    "version": 3
   },
   "file_extension": ".py",
   "mimetype": "text/x-python",
   "name": "python",
   "nbconvert_exporter": "python",
   "pygments_lexer": "ipython3",
   "version": "3.9.16"
  }
 },
 "nbformat": 4,
 "nbformat_minor": 5
}
