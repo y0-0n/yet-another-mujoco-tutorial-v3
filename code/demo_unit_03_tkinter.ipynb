{
 "cells": [
  {
   "cell_type": "markdown",
   "id": "c647d772",
   "metadata": {},
   "source": [
    "### GUI using `tkinter` package"
   ]
  },
  {
   "cell_type": "code",
   "execution_count": 1,
   "id": "fcfee3af",
   "metadata": {},
   "outputs": [
    {
     "name": "stdout",
     "output_type": "stream",
     "text": [
      "Ready.\n"
     ]
    }
   ],
   "source": [
    "import numpy as np\n",
    "from util import MultiSliderClass\n",
    "print (\"Ready.\")"
   ]
  },
  {
   "cell_type": "markdown",
   "id": "9be5054a",
   "metadata": {},
   "source": [
    "### GUI with multiple sliders"
   ]
  },
  {
   "cell_type": "code",
   "execution_count": 2,
   "id": "00a43ec7",
   "metadata": {},
   "outputs": [
    {
     "name": "stdout",
     "output_type": "stream",
     "text": [
      "[0. 0. 0. 0. 0. 0. 0. 0. 0. 0. 0. 0. 0. 0. 0. 0. 0. 0. 0. 0. 0. 0. 0. 0.\n",
      " 0. 0. 0. 0. 0. 0. 0. 0. 0. 0. 0. 0. 0. 0. 0. 0. 0. 0. 0. 0. 0. 0. 0. 0.\n",
      " 0. 0.]\n",
      "[ 0.   0.   0.   0.   0.   0.  42.1  0.   0.   0.   0.   0.   0.   0.\n",
      "  0.   0.   0.   0.   0.   0. ]\n",
      "Done.\n"
     ]
    }
   ],
   "source": [
    "# Initialize multiple sliders\n",
    "n_slider = 50\n",
    "GUI1 = MultiSliderClass(\n",
    "    n_slider     = n_slider,\n",
    "    title        = 'Multiple Sliders',\n",
    "    window_width = 500,\n",
    "    x_offset     = 100,\n",
    "    y_offset     = 0,\n",
    "    slider_width = 350,\n",
    "    label_texts  = ['Slider %02d'%(idx) for idx in range(n_slider)],\n",
    "    slider_mins  = [-100]*n_slider,\n",
    "    slider_maxs  = [100]*n_slider,\n",
    "    slider_vals  = [0]*n_slider,\n",
    "    resolution   = 0.1,\n",
    "    VERBOSE      = False\n",
    ")\n",
    "n_slider = 20\n",
    "GUI2 = MultiSliderClass(\n",
    "    n_slider     = n_slider,\n",
    "    title        = 'Multiple Sliders',\n",
    "    window_width = 500,\n",
    "    x_offset     = 600,\n",
    "    y_offset     = 0,\n",
    "    slider_width = 350,\n",
    "    label_texts  = ['Slider %02d'%(idx) for idx in range(n_slider)],\n",
    "    slider_mins  = [-100]*n_slider,\n",
    "    slider_maxs  = [100]*n_slider,\n",
    "    slider_vals  = [0]*n_slider,\n",
    "    resolution   = 0.1,\n",
    "    VERBOSE      = False\n",
    ")\n",
    "\n",
    "# Loop\n",
    "while GUI1.is_window_exists() and GUI2.is_window_exists():\n",
    "    GUI1.update()\n",
    "    GUI2.update()\n",
    "    slider1_values = GUI1.get_slider_values()\n",
    "    slider2_values = GUI2.get_slider_values()\n",
    "GUI1.close()\n",
    "GUI2.close()\n",
    "\n",
    "# Print\n",
    "print (GUI1.get_slider_values())\n",
    "print (GUI2.get_slider_values())\n",
    "print (\"Done.\")"
   ]
  },
  {
   "cell_type": "code",
   "execution_count": null,
   "id": "12aff715",
   "metadata": {},
   "outputs": [],
   "source": []
  }
 ],
 "metadata": {
  "kernelspec": {
   "display_name": "Python 3 (ipykernel)",
   "language": "python",
   "name": "python3"
  },
  "language_info": {
   "codemirror_mode": {
    "name": "ipython",
    "version": 3
   },
   "file_extension": ".py",
   "mimetype": "text/x-python",
   "name": "python",
   "nbconvert_exporter": "python",
   "pygments_lexer": "ipython3",
   "version": "3.9.16"
  }
 },
 "nbformat": 4,
 "nbformat_minor": 5
}
