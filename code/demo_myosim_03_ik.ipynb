{
 "cells": [
  {
   "cell_type": "markdown",
   "id": "f69bacd9",
   "metadata": {},
   "source": [
    "### Solve IK for `Common Rig`"
   ]
  },
  {
   "cell_type": "code",
   "execution_count": 1,
   "id": "a6bb01d2",
   "metadata": {},
   "outputs": [
    {
     "name": "stdout",
     "output_type": "stream",
     "text": [
      "MuJoCo version:[2.3.7]\n"
     ]
    }
   ],
   "source": [
    "import mujoco\n",
    "import numpy as np\n",
    "import matplotlib.pyplot as plt\n",
    "from mujoco_parser import MuJoCoParserClass\n",
    "from util import rpy2r,r2quat\n",
    "np.set_printoptions(precision=2,suppress=True,linewidth=100)\n",
    "plt.rc('xtick',labelsize=6); plt.rc('ytick',labelsize=6)\n",
    "%config InlineBackend.figure_format = 'retina'\n",
    "%matplotlib inline\n",
    "print (\"MuJoCo version:[%s]\"%(mujoco.__version__))"
   ]
  },
  {
   "cell_type": "markdown",
   "id": "6c55e6e2",
   "metadata": {},
   "source": [
    "### Parse `scene_common_rig.xml`"
   ]
  },
  {
   "cell_type": "code",
   "execution_count": 4,
   "id": "7902ea37",
   "metadata": {},
   "outputs": [
    {
     "name": "stdout",
     "output_type": "stream",
     "text": [
      "WARNING: Model and executable have different number of pointers in mjModel\n",
      "\n"
     ]
    },
    {
     "ename": "ValueError",
     "evalue": "mj_loadModel: failed to load from mjb",
     "output_type": "error",
     "traceback": [
      "\u001b[0;31m---------------------------------------------------------------------------\u001b[0m",
      "\u001b[0;31mValueError\u001b[0m                                Traceback (most recent call last)",
      "Cell \u001b[0;32mIn[4], line 2\u001b[0m\n\u001b[1;32m      1\u001b[0m xml_path \u001b[38;5;241m=\u001b[39m \u001b[38;5;124m'\u001b[39m\u001b[38;5;124m../asset/myo_sim/human/myohuman_v0.1(mj236).mjb\u001b[39m\u001b[38;5;124m'\u001b[39m\n\u001b[0;32m----> 2\u001b[0m env \u001b[38;5;241m=\u001b[39m \u001b[43mMuJoCoParserClass\u001b[49m\u001b[43m(\u001b[49m\u001b[43mname\u001b[49m\u001b[38;5;241;43m=\u001b[39;49m\u001b[38;5;124;43m'\u001b[39;49m\u001b[38;5;124;43mMyoSuite\u001b[39;49m\u001b[38;5;124;43m'\u001b[39;49m\u001b[43m,\u001b[49m\u001b[43mrel_xml_path\u001b[49m\u001b[38;5;241;43m=\u001b[39;49m\u001b[43mxml_path\u001b[49m\u001b[43m,\u001b[49m\u001b[43mVERBOSE\u001b[49m\u001b[38;5;241;43m=\u001b[39;49m\u001b[38;5;28;43;01mTrue\u001b[39;49;00m\u001b[43m)\u001b[49m\n\u001b[1;32m      3\u001b[0m \u001b[38;5;66;03m# Modify the color of body exluding 'world'\u001b[39;00m\n\u001b[1;32m      4\u001b[0m \u001b[38;5;28;01mfor\u001b[39;00m body_name \u001b[38;5;129;01min\u001b[39;00m env\u001b[38;5;241m.\u001b[39mbody_names:\n",
      "File \u001b[0;32m~/Dev/yet-another-mujoco-tutorial-v3/code/mujoco_parser.py:22\u001b[0m, in \u001b[0;36mMuJoCoParserClass.__init__\u001b[0;34m(self, name, rel_xml_path, USE_MUJOCO_VIEWER, VERBOSE)\u001b[0m\n\u001b[1;32m     20\u001b[0m \u001b[38;5;66;03m# Parse an xml file\u001b[39;00m\n\u001b[1;32m     21\u001b[0m \u001b[38;5;28;01mif\u001b[39;00m \u001b[38;5;28mself\u001b[39m\u001b[38;5;241m.\u001b[39mrel_xml_path \u001b[38;5;129;01mis\u001b[39;00m \u001b[38;5;129;01mnot\u001b[39;00m \u001b[38;5;28;01mNone\u001b[39;00m:\n\u001b[0;32m---> 22\u001b[0m     \u001b[38;5;28;43mself\u001b[39;49m\u001b[38;5;241;43m.\u001b[39;49m\u001b[43m_parse_xml\u001b[49m\u001b[43m(\u001b[49m\u001b[43m)\u001b[49m\n\u001b[1;32m     23\u001b[0m \u001b[38;5;66;03m# Viewer\u001b[39;00m\n\u001b[1;32m     24\u001b[0m \u001b[38;5;28mself\u001b[39m\u001b[38;5;241m.\u001b[39mUSE_MUJOCO_VIEWER \u001b[38;5;241m=\u001b[39m USE_MUJOCO_VIEWER\n",
      "File \u001b[0;32m~/Dev/yet-another-mujoco-tutorial-v3/code/mujoco_parser.py:45\u001b[0m, in \u001b[0;36mMuJoCoParserClass._parse_xml\u001b[0;34m(self)\u001b[0m\n\u001b[1;32m     43\u001b[0m \u001b[38;5;28;01melif\u001b[39;00m \u001b[38;5;28mself\u001b[39m\u001b[38;5;241m.\u001b[39mrel_xml_path\u001b[38;5;241m.\u001b[39msplit(\u001b[38;5;124m'\u001b[39m\u001b[38;5;124m.\u001b[39m\u001b[38;5;124m'\u001b[39m)[\u001b[38;5;241m-\u001b[39m\u001b[38;5;241m1\u001b[39m] \u001b[38;5;241m==\u001b[39m \u001b[38;5;124m'\u001b[39m\u001b[38;5;124mmjb\u001b[39m\u001b[38;5;124m'\u001b[39m:\n\u001b[1;32m     44\u001b[0m     \u001b[38;5;28mself\u001b[39m\u001b[38;5;241m.\u001b[39mfull_mjb_path    \u001b[38;5;241m=\u001b[39m os\u001b[38;5;241m.\u001b[39mpath\u001b[38;5;241m.\u001b[39mabspath(os\u001b[38;5;241m.\u001b[39mpath\u001b[38;5;241m.\u001b[39mjoin(os\u001b[38;5;241m.\u001b[39mgetcwd(),\u001b[38;5;28mself\u001b[39m\u001b[38;5;241m.\u001b[39mrel_xml_path))\n\u001b[0;32m---> 45\u001b[0m     \u001b[38;5;28mself\u001b[39m\u001b[38;5;241m.\u001b[39mmodel \u001b[38;5;241m=\u001b[39m \u001b[43mmujoco\u001b[49m\u001b[38;5;241;43m.\u001b[39;49m\u001b[43mMjModel\u001b[49m\u001b[38;5;241;43m.\u001b[39;49m\u001b[43mfrom_binary_path\u001b[49m\u001b[43m(\u001b[49m\u001b[38;5;28;43mself\u001b[39;49m\u001b[38;5;241;43m.\u001b[39;49m\u001b[43mfull_mjb_path\u001b[49m\u001b[43m)\u001b[49m\n\u001b[1;32m     46\u001b[0m     \u001b[38;5;28mself\u001b[39m\u001b[38;5;241m.\u001b[39mdata \u001b[38;5;241m=\u001b[39m mujoco\u001b[38;5;241m.\u001b[39mMjData(\u001b[38;5;28mself\u001b[39m\u001b[38;5;241m.\u001b[39mmodel)\n\u001b[1;32m     48\u001b[0m \u001b[38;5;28mself\u001b[39m\u001b[38;5;241m.\u001b[39mdt               \u001b[38;5;241m=\u001b[39m \u001b[38;5;28mself\u001b[39m\u001b[38;5;241m.\u001b[39mmodel\u001b[38;5;241m.\u001b[39mopt\u001b[38;5;241m.\u001b[39mtimestep\n",
      "\u001b[0;31mValueError\u001b[0m: mj_loadModel: failed to load from mjb"
     ]
    }
   ],
   "source": [
    "xml_path = '../asset/myo_sim/human/myohuman_v0.1(mj236).mjb'\n",
    "env = MuJoCoParserClass(name='MyoSuite',rel_xml_path=xml_path,VERBOSE=True)\n",
    "# Modify the color of body exluding 'world'\n",
    "for body_name in env.body_names:\n",
    "    if body_name in ['world']: continue\n",
    "    body_idx = env.body_names.index(body_name)\n",
    "    geom_idxs = [idx for idx,val in enumerate(env.model.geom_bodyid) if val==body_idx]\n",
    "    for geom_idx in geom_idxs:\n",
    "        env.model.geom(geom_idx).rgba = [0.3,0.3,0.5,0.5]\n",
    "print (\"Done.\")"
   ]
  },
  {
   "cell_type": "markdown",
   "id": "8a879553",
   "metadata": {},
   "source": [
    "### Loop"
   ]
  },
  {
   "cell_type": "code",
   "execution_count": 7,
   "id": "d14c4b17",
   "metadata": {},
   "outputs": [
    {
     "ename": "KeyError",
     "evalue": "\"Invalid name 'distph3'. Valid names: ['calcn_l', 'calcn_r', 'femur_l', 'femur_r', 'head', 'patella_l', 'patella_r', 'pelvis', 'root', 'talus_l', 'talus_r', 'tibia_l', 'tibia_r', 'toes_l', 'toes_r', 'torso', 'world']\"",
     "output_type": "error",
     "traceback": [
      "\u001b[0;31m---------------------------------------------------------------------------\u001b[0m",
      "\u001b[0;31mKeyError\u001b[0m                                  Traceback (most recent call last)",
      "Cell \u001b[0;32mIn[7], line 18\u001b[0m\n\u001b[1;32m     16\u001b[0m \u001b[38;5;66;03m# IK target 1\u001b[39;00m\n\u001b[1;32m     17\u001b[0m ik_body_name \u001b[38;5;241m=\u001b[39m \u001b[38;5;124m'\u001b[39m\u001b[38;5;124mdistph3\u001b[39m\u001b[38;5;124m'\u001b[39m\n\u001b[0;32m---> 18\u001b[0m p_curr,R_curr \u001b[38;5;241m=\u001b[39m \u001b[43menv\u001b[49m\u001b[38;5;241;43m.\u001b[39;49m\u001b[43mget_pR_body\u001b[49m\u001b[43m(\u001b[49m\u001b[43mbody_name\u001b[49m\u001b[38;5;241;43m=\u001b[39;49m\u001b[43mik_body_name\u001b[49m\u001b[43m)\u001b[49m\n\u001b[1;32m     19\u001b[0m ik_p_trgt \u001b[38;5;241m=\u001b[39m p_curr\u001b[38;5;241m+\u001b[39mnp\u001b[38;5;241m.\u001b[39marray([\u001b[38;5;241m+\u001b[39m\u001b[38;5;241m0.3\u001b[39m,\u001b[38;5;241m-\u001b[39m\u001b[38;5;241m0.1\u001b[39m,\u001b[38;5;241m-\u001b[39m\u001b[38;5;241m0.0\u001b[39m])\n\u001b[1;32m     20\u001b[0m ik_R_trgt \u001b[38;5;241m=\u001b[39m rpy2r(np\u001b[38;5;241m.\u001b[39mradians([\u001b[38;5;241m0\u001b[39m,\u001b[38;5;241m-\u001b[39m\u001b[38;5;241m30\u001b[39m,\u001b[38;5;241m30\u001b[39m]))\u001b[38;5;129m@R_curr\u001b[39m\n",
      "File \u001b[0;32m~/Dev/yet-another-mujoco-tutorial-v3/code/mujoco_parser.py:342\u001b[0m, in \u001b[0;36mMuJoCoParserClass.get_pR_body\u001b[0;34m(self, body_name)\u001b[0m\n\u001b[1;32m    338\u001b[0m \u001b[38;5;28;01mdef\u001b[39;00m \u001b[38;5;21mget_pR_body\u001b[39m(\u001b[38;5;28mself\u001b[39m,body_name):\n\u001b[1;32m    339\u001b[0m \u001b[38;5;250m    \u001b[39m\u001b[38;5;124;03m\"\"\"\u001b[39;00m\n\u001b[1;32m    340\u001b[0m \u001b[38;5;124;03m        Get body position and rotation matrix\u001b[39;00m\n\u001b[1;32m    341\u001b[0m \u001b[38;5;124;03m    \"\"\"\u001b[39;00m\n\u001b[0;32m--> 342\u001b[0m     p \u001b[38;5;241m=\u001b[39m \u001b[38;5;28;43mself\u001b[39;49m\u001b[38;5;241;43m.\u001b[39;49m\u001b[43mget_p_body\u001b[49m\u001b[43m(\u001b[49m\u001b[43mbody_name\u001b[49m\u001b[43m)\u001b[49m\n\u001b[1;32m    343\u001b[0m     R \u001b[38;5;241m=\u001b[39m \u001b[38;5;28mself\u001b[39m\u001b[38;5;241m.\u001b[39mget_R_body(body_name)\n\u001b[1;32m    344\u001b[0m     \u001b[38;5;28;01mreturn\u001b[39;00m p,R\n",
      "File \u001b[0;32m~/Dev/yet-another-mujoco-tutorial-v3/code/mujoco_parser.py:330\u001b[0m, in \u001b[0;36mMuJoCoParserClass.get_p_body\u001b[0;34m(self, body_name)\u001b[0m\n\u001b[1;32m    326\u001b[0m \u001b[38;5;28;01mdef\u001b[39;00m \u001b[38;5;21mget_p_body\u001b[39m(\u001b[38;5;28mself\u001b[39m,body_name):\n\u001b[1;32m    327\u001b[0m \u001b[38;5;250m    \u001b[39m\u001b[38;5;124;03m\"\"\"\u001b[39;00m\n\u001b[1;32m    328\u001b[0m \u001b[38;5;124;03m        Get body position\u001b[39;00m\n\u001b[1;32m    329\u001b[0m \u001b[38;5;124;03m    \"\"\"\u001b[39;00m\n\u001b[0;32m--> 330\u001b[0m     \u001b[38;5;28;01mreturn\u001b[39;00m \u001b[38;5;28;43mself\u001b[39;49m\u001b[38;5;241;43m.\u001b[39;49m\u001b[43mdata\u001b[49m\u001b[38;5;241;43m.\u001b[39;49m\u001b[43mbody\u001b[49m\u001b[43m(\u001b[49m\u001b[43mbody_name\u001b[49m\u001b[43m)\u001b[49m\u001b[38;5;241m.\u001b[39mxpos\u001b[38;5;241m.\u001b[39mcopy()\n",
      "\u001b[0;31mKeyError\u001b[0m: \"Invalid name 'distph3'. Valid names: ['calcn_l', 'calcn_r', 'femur_l', 'femur_r', 'head', 'patella_l', 'patella_r', 'pelvis', 'root', 'talus_l', 'talus_r', 'tibia_l', 'tibia_r', 'toes_l', 'toes_r', 'torso', 'world']\""
     ]
    }
   ],
   "source": [
    "# Initialize MuJoCo viewer\n",
    "env.init_viewer(viewer_title='MyoSuite',viewer_width=1200,viewer_height=800,\n",
    "                viewer_hide_menus=True)\n",
    "env.update_viewer(azimuth=152,distance=3.0,elevation=-30,lookat=[0.02,-0.03,0.8])\n",
    "env.reset()\n",
    "\n",
    "# Set which joints to control\n",
    "rev_joint_names = env.rev_joint_names\n",
    "joint_idxs_fwd = [env.model.joint(jname).qposadr[0] for jname in rev_joint_names]\n",
    "joint_idxs_jac  = [env.model.joint(jname).dofadr[0] for jname in rev_joint_names]\n",
    "q_rev_init = env.get_qpos_joints(rev_joint_names)\n",
    "n_rev_joint = len(rev_joint_names)\n",
    "\n",
    "# Set IK targets\n",
    "ik_body_names,ik_p_trgts,ik_R_trgts,IK_Ps,IK_Rs = [],[],[],[],[]\n",
    "# IK target 1\n",
    "ik_body_name = 'distph3'\n",
    "p_curr,R_curr = env.get_pR_body(body_name=ik_body_name)\n",
    "ik_p_trgt = p_curr+np.array([+0.3,-0.1,-0.0])\n",
    "ik_R_trgt = rpy2r(np.radians([0,-30,30]))@R_curr\n",
    "IK_P = True\n",
    "IK_R = True\n",
    "ik_body_names.append(ik_body_name)\n",
    "ik_p_trgts.append(ik_p_trgt)\n",
    "ik_R_trgts.append(ik_R_trgt)\n",
    "IK_Ps.append(IK_P)\n",
    "IK_Rs.append(IK_R)\n",
    "# IK target 2\n",
    "ik_body_name = '3distph_l'\n",
    "p_curr,R_curr = env.get_pR_body(body_name=ik_body_name)\n",
    "ik_p_trgt = p_curr+np.array([-0.3,+0.1,0.0])\n",
    "ik_R_trgt = rpy2r(np.radians([0,30,-30]))@R_curr\n",
    "IK_P = True\n",
    "IK_R = True\n",
    "ik_body_names.append(ik_body_name)\n",
    "ik_p_trgts.append(ik_p_trgt)\n",
    "ik_R_trgts.append(ik_R_trgt)\n",
    "IK_Ps.append(IK_P)\n",
    "IK_Rs.append(IK_R)\n",
    "\n",
    "# Reset and loop \n",
    "q = q_rev_init.copy()\n",
    "FIRST_FLAG = True\n",
    "while env.is_viewer_alive():\n",
    "    \n",
    "    # Solve inverse kinematics\n",
    "    J_list,ik_err_list = [],[]\n",
    "    for ik_idx,ik_body_name in enumerate(ik_body_names):\n",
    "        ik_p_trgt = ik_p_trgts[ik_idx]\n",
    "        ik_R_trgt = ik_R_trgts[ik_idx]\n",
    "        IK_P = IK_Ps[ik_idx]\n",
    "        IK_R = IK_Rs[ik_idx]\n",
    "        J,ik_err = env.get_ik_ingredients(\n",
    "            body_name=ik_body_name,p_trgt=ik_p_trgt,R_trgt=ik_R_trgt,\n",
    "            IK_P=IK_P,IK_R=IK_R)\n",
    "        J[:,:6] = 0.0 # ignore base joints\n",
    "        J_list.append(J)\n",
    "        ik_err_list.append(ik_err)\n",
    "    J_stack      = np.vstack(J_list)\n",
    "    ik_err_stack = np.hstack(ik_err_list)\n",
    "    dq = env.damped_ls(J_stack,ik_err_stack,stepsize=1,eps=1e-2,th=np.radians(1.0))\n",
    "    q = q + dq[joint_idxs_jac]\n",
    "    \n",
    "    # FK\n",
    "    PERTURB_BASE_POSITION = True\n",
    "    if PERTURB_BASE_POSITION:\n",
    "        jntadr = env.model.body('body_root').jntadr[0]\n",
    "        qposadr = env.model.jnt_qposadr[jntadr]\n",
    "        base_pos = env.data.qpos[qposadr:qposadr+3]\n",
    "        base_pos = base_pos + 0.0*np.random.randn(3) # modify base position\n",
    "        env.data.qpos[qposadr:qposadr+3] = base_pos\n",
    "        env.data.qpos[qposadr+3:qposadr+7] = r2quat(rpy2r(np.radians([0,0,0])))\n",
    "    env.forward(q=q,joint_idxs=joint_idxs_fwd,INCREASE_TICK=True)\n",
    "    \n",
    "    if env.loop_every(tick_every=10):\n",
    "        # Plot world frame\n",
    "        env.plot_T(p=np.zeros(3),R=np.eye(3,3),\n",
    "                   PLOT_AXIS=True,axis_len=0.5,axis_width=0.005)\n",
    "        \n",
    "        # Text information\n",
    "        env.plot_T(p=np.array([0,0,0.5]),R=np.eye(3),PLOT_AXIS=False,\n",
    "                   label='Tick:[%d]'%(env.tick))\n",
    "        \n",
    "        # Plot bodies\n",
    "        env.plot_body_T(body_name='body_root',PLOT_AXIS=True,axis_len=0.5,axis_width=0.01)\n",
    "        # for body_name in env.body_names:\n",
    "        #     p,R = env.get_pR_body(body_name=body_name)\n",
    "        #     env.plot_T(p=p,R=R,PLOT_AXIS=True,axis_len=0.05,axis_width=0.005)\n",
    "            \n",
    "        # Plot IK target\n",
    "        for ik_idx,ik_body_name in enumerate(ik_body_names):\n",
    "            ik_p_trgt = ik_p_trgts[ik_idx]\n",
    "            ik_R_trgt = ik_R_trgts[ik_idx]\n",
    "            env.plot_body_T(body_name=ik_body_name,\n",
    "                            PLOT_AXIS=True,axis_len=0.2,axis_width=0.01)\n",
    "            env.plot_T(p=ik_p_trgt,R=ik_R_trgt,\n",
    "                       PLOT_AXIS=True,axis_len=0.2,axis_width=0.01)\n",
    "        \n",
    "        # Plot revolute joints with arrow\n",
    "        # for rev_joint_idx,rev_joint_name in zip(env.rev_joint_idxs,env.rev_joint_names):\n",
    "        #     axis_joint = env.model.jnt_axis[rev_joint_idx]\n",
    "        #     p_joint,R_joint = env.get_pR_joint(joint_name=rev_joint_name)\n",
    "        #     axis_world = R_joint@axis_joint\n",
    "        #     axis_rgba = np.append(np.eye(3)[:,np.argmax(axis_joint)],0.2)\n",
    "        #     axis_len,axis_r = 0.1,0.01\n",
    "        #     env.plot_arrow_fr2to(\n",
    "        #         p_fr=p_joint,p_to=p_joint+axis_len*axis_world,\n",
    "        #         r=axis_r,rgba=axis_rgba)\n",
    "            \n",
    "        # Plot contact information\n",
    "        # env.plot_contact_info(h_arrow=0.3,rgba_arrow=[1,0,0,1],\n",
    "        #                       PRINT_CONTACT_BODY=False)\n",
    "        env.render()\n",
    "        \n",
    "    # Save image\n",
    "    if env.is_viewer_alive() and FIRST_FLAG:\n",
    "        scene_img_init = env.grab_image()\n",
    "    if env.is_viewer_alive() and env.loop_every(tick_every=100):\n",
    "        scene_img_final = env.grab_image()\n",
    "    FIRST_FLAG = False\n",
    "        \n",
    "# Close MuJoCo viewer\n",
    "env.close_viewer()\n",
    "\n",
    "# Plot initial and final scenes\n",
    "fig,axs = plt.subplots(1,2,figsize=(10,4))\n",
    "plt.subplots_adjust(top=0.85,bottom=0.15,wspace=0.2,hspace=0.5)\n",
    "axs[0].imshow(scene_img_init)\n",
    "axs[0].set_title('Initial Scene',fontsize=11)\n",
    "axs[1].imshow(scene_img_final)\n",
    "axs[1].set_title('Final Scene (tick:[%d])'%(env.tick),fontsize=11)\n",
    "plt.show()"
   ]
  },
  {
   "cell_type": "code",
   "execution_count": null,
   "id": "a6d1b6d3",
   "metadata": {},
   "outputs": [],
   "source": [
    "env.open_interactive_viewer()"
   ]
  }
 ],
 "metadata": {
  "kernelspec": {
   "display_name": "Python 3 (ipykernel)",
   "language": "python",
   "name": "python3"
  },
  "language_info": {
   "codemirror_mode": {
    "name": "ipython",
    "version": 3
   },
   "file_extension": ".py",
   "mimetype": "text/x-python",
   "name": "python",
   "nbconvert_exporter": "python",
   "pygments_lexer": "ipython3",
   "version": "3.8.16"
  }
 },
 "nbformat": 4,
 "nbformat_minor": 5
}
