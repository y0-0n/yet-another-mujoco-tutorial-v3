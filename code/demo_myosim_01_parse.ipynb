{
 "cells": [
  {
   "cell_type": "markdown",
   "id": "50d0a6d4",
   "metadata": {},
   "source": [
    "### Parse `Common-Rig`"
   ]
  },
  {
   "cell_type": "code",
   "execution_count": 1,
   "id": "d68c2b31",
   "metadata": {},
   "outputs": [
    {
     "name": "stdout",
     "output_type": "stream",
     "text": [
      "MuJoCo version:[2.3.6]\n"
     ]
    },
    {
     "name": "stderr",
     "output_type": "stream",
     "text": [
      "<frozen importlib._bootstrap>:228: RuntimeWarning: scipy._lib.messagestream.MessageStream size changed, may indicate binary incompatibility. Expected 56 from C header, got 64 from PyObject\n"
     ]
    }
   ],
   "source": [
    "import mujoco\n",
    "import numpy as np\n",
    "import matplotlib.pyplot as plt\n",
    "from mujoco_parser import MuJoCoParserClass\n",
    "np.set_printoptions(precision=2,suppress=True,linewidth=100)\n",
    "plt.rc('xtick',labelsize=6); plt.rc('ytick',labelsize=6)\n",
    "%config InlineBackend.figure_format = 'retina'\n",
    "%matplotlib inline\n",
    "print (\"MuJoCo version:[%s]\"%(mujoco.__version__))"
   ]
  },
  {
   "cell_type": "markdown",
   "id": "c4020561",
   "metadata": {},
   "source": [
    "### Parse `common_rig.xml`"
   ]
  },
  {
   "cell_type": "code",
   "execution_count": 2,
   "id": "24b02579",
   "metadata": {},
   "outputs": [
    {
     "name": "stdout",
     "output_type": "stream",
     "text": [
      "dt:[0.0020] HZ:[500]\n",
      "n_dof (=nv):[83]\n",
      "n_geom:[82]\n",
      "geom_names:['floor', 'r_pelvis', 'l_pelvis', 'sacrum', 'r_femur', 'r_tibia', 'r_fibula', 'r_talus', 'r_foot', 'r_bofoot', 'r_patella', 'l_femur', 'l_tibia', 'l_fibula', 'l_talus', 'l_foot', 'l_bofoot', 'l_patella', 'hat_spine', 'hat_jaw', 'hat_skull', 'hat_ribs_scap', 'humerus_r', 'ulna', 'radius', 'lunate', 'scaphoid', 'pisiform', 'triquetrum', 'capitate', 'trapezium', '1mc', 'thumbprox', 'thumbdist', 'trapezoid', 'hamate', '2mc', '2proxph', '2midph', '2distph', '3mc', '3proxph', '3midph', '3distph', '4mc', '4proxph', '4midph', '4distph', '5mc', '5proxph', '5midph', '5distph', 'humerus_lv', 'ulna_l', 'radius_l', 'lunate_l', 'scaphoid_l_geom_1', 'pisiform_l_geom_1', 'triquetrum_l_geom_1', 'capitate_l_geom_1', 'trapezium_l_geom_1', 'firstmc_l_geom_1', 'proximal_thumb_l_geom_1', 'distal_thumb_l_geom_1', 'trapezoid_l_geom_1', 'hamate_l_geom_1', 'secondmc_l_geom_1', '2proxph_l_geom_1', '2midph_l_geom_1', '2distph_l_geom_1', 'thirdmc_l_geom_1', '3proxph_l_geom_1', '3midph_l_geom_1', '3distph_l_geom_1', 'fourthmc_l_geom_1', '4proxph_l_geom_1', '4midph_l_geom_1', '4distph_l_geom_1', 'fifthmc_l_geom_1', '5proxph_l_geom_1', '5midph_l_geom_1', '5distph_l_geom_1']\n",
      "n_body:[77]\n",
      "body_names:['world', 'body_root', 'pelvis', 'femur_r', 'tibia_r', 'talus_r', 'calcn_r', 'toes_r', 'patella_r', 'femur_l', 'tibia_l', 'talus_l', 'calcn_l', 'toes_l', 'patella_l', 'torso', 'humerus_r', 'ulna', 'radius', 'lunate', 'scaphoid', 'pisiform', 'triquetrum', 'capitate', 'trapezium', 'firstmc', 'proximal_thumb', 'distal_thumb', 'trapezoid', 'hamate', 'secondmc', 'proxph2', 'midph2', 'distph2', 'thirdmc', 'proxph3', 'midph3', 'distph3', 'fourthmc', 'proxph4', 'midph4', 'distph4', 'fifthmc', 'proxph5', 'midph5', 'distph5', 'humerus_l', 'ulna_l', 'radius_l', 'lunate_l', 'scaphoid_l', 'pisiform_l', 'triquetrum_l', 'capitate_l', 'trapezium_l', 'firstmc1_l', 'firstmc_l', 'proximal_thumb_l', 'distal_thumb_l', 'trapezoid_l', 'hamate_l', 'secondmc_l', '2proxph_l', '2midph_l', '2distph_l', 'thirdmc_l', '3proxph_l', '3midph_l', '3distph_l', 'fourthmc_l', '4proxph_l', '4midph_l', '4distph_l', 'fifthmc_l', '5proxph_l', '5midph_l', '5distph_l']\n",
      "n_joint:[83]\n",
      "joint_names:['pelvis_tx', 'pelvis_ty', 'pelvis_tz', 'pelvis_rx', 'pelvis_ry', 'pelvis_rz', 'hip_flexion_r', 'hip_adduction_r', 'hip_rotation_r', 'knee_angle_r', 'ankle_angle_r', 'subtalar_angle_r', 'mtp_angle_r', 'knee_angle_r_beta_translation2', 'knee_angle_r_beta_translation1', 'knee_angle_r_beta_rotation1', 'hip_flexion_l', 'hip_adduction_l', 'hip_rotation_l', 'knee_angle_l', 'ankle_angle_l', 'subtalar_angle_l', 'mtp_angle_l', 'knee_angle_l_beta_translation2', 'knee_angle_l_beta_translation1', 'knee_angle_l_beta_rotation1', 'lumbar_extension', 'lumbar_bending', 'lumbar_rotation', 'arm_flex_r', 'arm_add_r', 'arm_rot_r', 'elbow_flex_r', 'pro_sup', 'deviation', 'flexion', 'cmc_abduction', 'cmc_flexion', 'mp_flexion', 'ip_flexion', 'mcp2_flexion', 'mcp2_abduction', 'pm2_flexion', 'md2_flexion', 'mcp3_flexion', 'mcp3_abduction', 'pm3_flexion', 'md3_flexion', 'mcp4_flexion', 'mcp4_abduction', 'pm4_flexion', 'md4_flexion', 'mcp5_flexion', 'mcp5_abduction', 'pm5_flexion', 'md5_flexion', 'arm_flex_l', 'arm_add_l', 'arm_rot_l', 'elbow_flex_l', 'pro_sup_l', 'deviation_l', 'flexion_l', 'cmc_flexion_l', 'cmc_abduction_l', 'mp_flexion_l', 'ip_flexion_l', '2mcp_flexion_l', '2mcp_abduction_l', '2pm_flexion_l', '2md_flexion_l', '3mcp_flexion_l', '3mcp_abduction_l', '3pm_flexion_l', '3md_flexion_l', '4mcp_flexion_l', '4mcp_abduction_l', '4pm_flexion_l', '4md_flexion_l', '5mcp_flexion_l', '5mcp_abduction_l', '5pm_flexion_l', '5md_flexion_l']\n",
      "joint_types:[2 2 2 3 3 3 3 3 3 3 3 3 3 2 2 3 3 3 3 3 3 3 3 2 2 3 3 3 3 3 3 3 3 3 3 3 3 3 3 3 3 3 3 3 3 3 3 3 3\n",
      " 3 3 3 3 3 3 3 3 3 3 3 3 3 3 3 3 3 3 3 3 3 3 3 3 3 3 3 3 3 3 3 3 3 3]\n",
      "joint_ranges:\n",
      "[[-3.    3.  ]\n",
      " [-3.    3.  ]\n",
      " [-1.    2.  ]\n",
      " [-1.57  1.57]\n",
      " [-1.57  1.57]\n",
      " [-1.57  1.57]\n",
      " [-0.52  2.09]\n",
      " [-0.87  0.52]\n",
      " [-0.7   0.7 ]\n",
      " [ 0.    2.09]\n",
      " [-0.7   0.52]\n",
      " [-0.35  0.35]\n",
      " [-0.52  0.52]\n",
      " [-0.04 -0.01]\n",
      " [-0.02  0.05]\n",
      " [-1.79  0.01]\n",
      " [-0.52  2.09]\n",
      " [-0.87  0.52]\n",
      " [-0.7   0.7 ]\n",
      " [ 0.    2.09]\n",
      " [-0.7   0.52]\n",
      " [-0.35  0.35]\n",
      " [-0.52  0.52]\n",
      " [-0.04 -0.01]\n",
      " [-0.02  0.05]\n",
      " [-1.79  0.01]\n",
      " [-1.57  1.57]\n",
      " [-1.57  1.57]\n",
      " [-1.57  1.57]\n",
      " [-1.57  1.57]\n",
      " [-2.09  1.57]\n",
      " [-1.57  1.57]\n",
      " [ 0.    2.62]\n",
      " [-1.57  1.57]\n",
      " [-0.17  0.44]\n",
      " [-0.79  0.79]\n",
      " [-0.5   0.78]\n",
      " [-0.78  0.7 ]\n",
      " [-0.79  0.7 ]\n",
      " [-1.31  0.44]\n",
      " [ 0.    1.57]\n",
      " [-0.26  0.26]\n",
      " [ 0.    1.57]\n",
      " [ 0.    1.57]\n",
      " [ 0.    1.57]\n",
      " [-0.26  0.26]\n",
      " [ 0.    1.57]\n",
      " [ 0.    1.57]\n",
      " [ 0.    1.57]\n",
      " [-0.26  0.26]\n",
      " [ 0.    1.57]\n",
      " [ 0.    1.57]\n",
      " [ 0.    1.57]\n",
      " [-0.26  0.26]\n",
      " [ 0.    1.57]\n",
      " [ 0.    1.57]\n",
      " [-1.57  1.57]\n",
      " [-2.09  1.57]\n",
      " [-1.57  1.57]\n",
      " [ 0.    2.27]\n",
      " [-1.57  1.77]\n",
      " [-0.79  0.79]\n",
      " [-0.79  0.79]\n",
      " [-0.26  0.79]\n",
      " [-0.7   0.87]\n",
      " [-0.78  0.  ]\n",
      " [-1.22  0.  ]\n",
      " [-0.35  1.75]\n",
      " [-0.79  0.35]\n",
      " [ 0.    2.09]\n",
      " [-0.35  1.75]\n",
      " [-0.87  1.57]\n",
      " [-0.75  0.35]\n",
      " [ 0.    2.09]\n",
      " [-0.35  1.75]\n",
      " [-0.87  1.57]\n",
      " [-0.75  0.35]\n",
      " [ 0.    2.09]\n",
      " [-0.35  1.75]\n",
      " [-0.87  1.57]\n",
      " [-0.4   0.35]\n",
      " [ 0.    2.09]\n",
      " [-0.35  1.75]]\n",
      "n_rev_joint:[76]\n",
      "rev_joint_idxs:[ 3  4  5  6  7  8  9 10 11 12 15 16 17 18 19 20 21 22 25 26 27 28 29 30 31 32 33 34 35 36 37 38 39\n",
      " 40 41 42 43 44 45 46 47 48 49 50 51 52 53 54 55 56 57 58 59 60 61 62 63 64 65 66 67 68 69 70 71 72\n",
      " 73 74 75 76 77 78 79 80 81 82]\n",
      "rev_joint_names:['pelvis_rx', 'pelvis_ry', 'pelvis_rz', 'hip_flexion_r', 'hip_adduction_r', 'hip_rotation_r', 'knee_angle_r', 'ankle_angle_r', 'subtalar_angle_r', 'mtp_angle_r', 'knee_angle_r_beta_rotation1', 'hip_flexion_l', 'hip_adduction_l', 'hip_rotation_l', 'knee_angle_l', 'ankle_angle_l', 'subtalar_angle_l', 'mtp_angle_l', 'knee_angle_l_beta_rotation1', 'lumbar_extension', 'lumbar_bending', 'lumbar_rotation', 'arm_flex_r', 'arm_add_r', 'arm_rot_r', 'elbow_flex_r', 'pro_sup', 'deviation', 'flexion', 'cmc_abduction', 'cmc_flexion', 'mp_flexion', 'ip_flexion', 'mcp2_flexion', 'mcp2_abduction', 'pm2_flexion', 'md2_flexion', 'mcp3_flexion', 'mcp3_abduction', 'pm3_flexion', 'md3_flexion', 'mcp4_flexion', 'mcp4_abduction', 'pm4_flexion', 'md4_flexion', 'mcp5_flexion', 'mcp5_abduction', 'pm5_flexion', 'md5_flexion', 'arm_flex_l', 'arm_add_l', 'arm_rot_l', 'elbow_flex_l', 'pro_sup_l', 'deviation_l', 'flexion_l', 'cmc_flexion_l', 'cmc_abduction_l', 'mp_flexion_l', 'ip_flexion_l', '2mcp_flexion_l', '2mcp_abduction_l', '2pm_flexion_l', '2md_flexion_l', '3mcp_flexion_l', '3mcp_abduction_l', '3pm_flexion_l', '3md_flexion_l', '4mcp_flexion_l', '4mcp_abduction_l', '4pm_flexion_l', '4md_flexion_l', '5mcp_flexion_l', '5mcp_abduction_l', '5pm_flexion_l', '5md_flexion_l']\n",
      "rev_joint_mins:[-1.57 -1.57 -1.57 -0.52 -0.87 -0.7   0.   -0.7  -0.35 -0.52 -1.79 -0.52 -0.87 -0.7   0.   -0.7\n",
      " -0.35 -0.52 -1.79 -1.57 -1.57 -1.57 -1.57 -2.09 -1.57  0.   -1.57 -0.17 -0.79 -0.5  -0.78 -0.79\n",
      " -1.31  0.   -0.26  0.    0.    0.   -0.26  0.    0.    0.   -0.26  0.    0.    0.   -0.26  0.\n",
      "  0.   -1.57 -2.09 -1.57  0.   -1.57 -0.79 -0.79 -0.26 -0.7  -0.78 -1.22 -0.35 -0.79  0.   -0.35\n",
      " -0.87 -0.75  0.   -0.35 -0.87 -0.75  0.   -0.35 -0.87 -0.4   0.   -0.35]\n",
      "rev_joint_maxs:[1.57 1.57 1.57 2.09 0.52 0.7  2.09 0.52 0.35 0.52 0.01 2.09 0.52 0.7  2.09 0.52 0.35 0.52 0.01\n",
      " 1.57 1.57 1.57 1.57 1.57 1.57 2.62 1.57 0.44 0.79 0.78 0.7  0.7  0.44 1.57 0.26 1.57 1.57 1.57\n",
      " 0.26 1.57 1.57 1.57 0.26 1.57 1.57 1.57 0.26 1.57 1.57 1.57 1.57 1.57 2.27 1.77 0.79 0.79 0.79\n",
      " 0.87 0.   0.   1.75 0.35 2.09 1.75 1.57 0.35 2.09 1.75 1.57 0.35 2.09 1.75 1.57 0.35 2.09 1.75]\n",
      "rev_joint_ranges:[3.14 3.14 3.14 2.62 1.4  1.4  2.09 1.22 0.7  1.05 1.8  2.62 1.4  1.4  2.09 1.22 0.7  1.05 1.8\n",
      " 3.14 3.14 3.14 3.14 3.67 3.14 2.62 3.14 0.61 1.57 1.28 1.48 1.48 1.75 1.57 0.52 1.57 1.57 1.57\n",
      " 0.52 1.57 1.57 1.57 0.52 1.57 1.57 1.57 0.52 1.57 1.57 3.14 3.67 3.14 2.27 3.34 1.57 1.57 1.05\n",
      " 1.57 0.78 1.22 2.09 1.14 2.09 2.09 2.44 1.1  2.09 2.09 2.44 1.1  2.09 2.09 2.44 0.75 2.09 2.09]\n",
      "n_pri_joint:[7]\n",
      "pri_joint_idxs:[ 0  1  2 13 14 23 24]\n",
      "pri_joint_names:['pelvis_tx', 'pelvis_ty', 'pelvis_tz', 'knee_angle_r_beta_translation2', 'knee_angle_r_beta_translation1', 'knee_angle_l_beta_translation2', 'knee_angle_l_beta_translation1']\n",
      "pri_joint_mins:[-3.   -3.   -1.   -0.04 -0.02 -0.04 -0.02]\n",
      "pri_joint_maxs:[ 3.    3.    2.   -0.01  0.05 -0.01  0.05]\n",
      "pri_joint_ranges:[6.   6.   3.   0.03 0.08 0.03 0.08]\n",
      "n_ctrl:[0]\n",
      "ctrl_names:[]\n",
      "ctrl_joint_idxs:[]\n",
      "ctrl_joint_names:[]\n",
      "ctrl_qvel_idxs:[]\n",
      "ctrl_ranges:\n",
      "[]\n",
      "n_sensor:[0]\n",
      "sensor_names:[]\n",
      "n_site:[0]\n",
      "site_names:[]\n"
     ]
    }
   ],
   "source": [
    "xml_path = '../asset/myo_sim/human/myohuman_v0.1(mj236).mjb'\n",
    "env = MuJoCoParserClass(name='Common Rig',rel_xml_path=xml_path,VERBOSE=True)"
   ]
  },
  {
   "cell_type": "markdown",
   "id": "a579c9cf",
   "metadata": {},
   "source": [
    "### Modify the `common-rig` model"
   ]
  },
  {
   "cell_type": "code",
   "execution_count": 3,
   "id": "b08747e1",
   "metadata": {},
   "outputs": [
    {
     "name": "stdout",
     "output_type": "stream",
     "text": [
      "Done.\n"
     ]
    }
   ],
   "source": [
    "# Modify the color of body exluding 'world'\n",
    "for body_name in env.body_names:\n",
    "    if body_name in ['world']: continue \n",
    "    body_idx = env.body_names.index(body_name)\n",
    "    geom_idxs = [idx for idx,val in enumerate(env.model.geom_bodyid) if val==body_idx]\n",
    "    for geom_idx in geom_idxs:\n",
    "        env.model.geom(geom_idx).rgba = [0.3,0.3,0.5,0.5]\n",
    "print (\"Done.\")"
   ]
  },
  {
   "cell_type": "markdown",
   "id": "ec6150d7",
   "metadata": {},
   "source": [
    "### Loop"
   ]
  },
  {
   "cell_type": "code",
   "execution_count": 5,
   "id": "c3c25262",
   "metadata": {},
   "outputs": [],
   "source": [
    "env.init_viewer(viewer_title='Common Rig',viewer_width=1200,viewer_height=800,\n",
    "                viewer_hide_menus=True)\n",
    "env.update_viewer(azimuth=152,distance=3.0,elevation=-30,lookat=[0.02,-0.03,0.8])\n",
    "env.reset()\n",
    "\n",
    "while env.is_viewer_alive():\n",
    "    \n",
    "    # Simulate\n",
    "    rev_joint_names = ['deviation_l','flexion_l','pro_sup']\n",
    "    q_fwd = np.radians([0,0,0])\n",
    "    joint_idxs_fwd = [env.model.joint(jname).qposadr[0] for jname in rev_joint_names]\n",
    "    env.forward(q=q_fwd,joint_idxs=joint_idxs_fwd) # kinematic simulation\n",
    "    \n",
    "    if env.loop_every(HZ=10):\n",
    "        env.plot_T(p=np.zeros(3),R=np.eye(3,3),\n",
    "                   PLOT_AXIS=True,axis_len=0.5,axis_width=0.005)\n",
    "        \n",
    "        # Plot bodies\n",
    "        for body_name in env.body_names:\n",
    "            p,R = env.get_pR_body(body_name=body_name)\n",
    "            env.plot_T(p=p,R=R,PLOT_AXIS=True,axis_len=0.1,axis_width=0.005)\n",
    "        \n",
    "        # Plot revolute joints with arrow\n",
    "        for rev_joint_idx,rev_joint_name in zip(env.rev_joint_idxs,env.rev_joint_names):\n",
    "            axis_joint = env.model.jnt_axis[rev_joint_idx]\n",
    "            p_joint,R_joint = env.get_pR_joint(joint_name=rev_joint_name)\n",
    "            axis_world = R_joint@axis_joint\n",
    "            axis_rgba = np.append(np.eye(3)[:,np.argmax(axis_joint)],0.2)\n",
    "            axis_len,axis_r = 0.1,0.01\n",
    "            env.plot_arrow_fr2to(\n",
    "                p_fr=p_joint,p_to=p_joint+axis_len*axis_world,\n",
    "                r=axis_r,rgba=axis_rgba)\n",
    "        # Plot contact information\n",
    "        env.plot_contact_info(h_arrow=0.3,rgba_arrow=[1,0,0,1],\n",
    "                              PRINT_CONTACT_BODY=False)\n",
    "        env.render()\n",
    "        \n",
    "# Close viewer\n",
    "env.close_viewer()"
   ]
  },
  {
   "cell_type": "code",
   "execution_count": null,
   "id": "bbce4955",
   "metadata": {},
   "outputs": [],
   "source": []
  },
  {
   "cell_type": "code",
   "execution_count": 5,
   "id": "015ba1b7",
   "metadata": {},
   "outputs": [],
   "source": [
    "# env.open_interactive_viewer()"
   ]
  },
  {
   "cell_type": "code",
   "execution_count": null,
   "id": "2fbe4fec",
   "metadata": {},
   "outputs": [],
   "source": []
  }
 ],
 "metadata": {
  "kernelspec": {
   "display_name": "Python 3 (ipykernel)",
   "language": "python",
   "name": "python3"
  },
  "language_info": {
   "codemirror_mode": {
    "name": "ipython",
    "version": 3
   },
   "file_extension": ".py",
   "mimetype": "text/x-python",
   "name": "python",
   "nbconvert_exporter": "python",
   "pygments_lexer": "ipython3",
   "version": "3.8.16"
  }
 },
 "nbformat": 4,
 "nbformat_minor": 5
}
