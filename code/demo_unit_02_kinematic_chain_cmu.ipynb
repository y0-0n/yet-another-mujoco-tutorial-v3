{
 "cells": [
  {
   "cell_type": "markdown",
   "id": "2f5ed6f1",
   "metadata": {},
   "source": [
    "### Construct Kinematic Chain using `networkx` package"
   ]
  },
  {
   "cell_type": "code",
   "execution_count": null,
   "id": "60d40648",
   "metadata": {},
   "outputs": [],
   "source": [
    "import copy,cv2,glob,os\n",
    "import numpy as np\n",
    "import mediapy as media\n",
    "import networkx as nx\n",
    "import matplotlib.pyplot as plt\n",
    "from util import r2rpy,rpy2r,rodrigues,create_folder_if_not_exists, rpy2R\n",
    "from mujoco_parser import MuJoCoParserClass\n",
    "from kin_chain import KinematicChainClass\n",
    "# from networkx.algorithms.traversal.depth_first_search import dfs_edges\n",
    "np.set_printoptions(precision=2)\n",
    "%matplotlib inline\n",
    "%config InlineBackend.figure_format='retina'\n",
    "print (\"networkx version:[%s]\"%(nx.__version__))"
   ]
  },
  {
   "cell_type": "markdown",
   "id": "aa2312c3",
   "metadata": {},
   "source": [
    "### Load Bvh & initialize kinematic chain"
   ]
  },
  {
   "cell_type": "code",
   "execution_count": null,
   "id": "6688592c",
   "metadata": {},
   "outputs": [],
   "source": [
    "from bvh.skeleton import process_bvhfile, process_bvhkeyframe\n",
    "from collections import deque\n",
    "\n",
    "mocap = process_bvhfile(\"../data/08_05.bvh\", DEBUG=False)\n",
    "\n",
    "node = mocap.root\n",
    "deq = deque()\n",
    "joint_names = []\n",
    "\n",
    "print(\"Analyzing frames...\")\n",
    "for i in range(mocap.frames):\n",
    "    new_frame = process_bvhkeyframe(mocap.keyframes[i], mocap.root, mocap.dt * i)\n",
    "print(\"done\")\n",
    "\n",
    "pos_header, pos = mocap.get_frames_worldpos()\n",
    "rot_header, rot = mocap.get_frames_rotations()\n",
    "\n",
    "rot = np.array(rot)\n",
    "rot = rot[:, 1:].reshape(rot.shape[0], -1, 3)[:, :, [2, 0, 1]]\n",
    "\n",
    "pos = np.array(pos)/10\n",
    "pos = pos[:, 1:].reshape(pos.shape[0], -1, 3)[:, :, [2, 0, 1]]\n",
    "\n",
    "\n",
    "cmu_chain = KinematicChainClass(name='CMU chain')\n",
    "cmu_chain.add_joint(name='World',p=np.array([0,0,0]),R=rpy2r(np.radians([0,0,0])))\n",
    "\n",
    "cmu_chain.add_joint(name=node.name,parent_name='World',\n",
    "        p_offset=np.array([0,0,1.8]),R_offset=rpy2r(np.radians([0,0,0])))\n",
    "joint_names.append(node.name)\n",
    "while len(node.children) > 0 or len(deq) > 0:\n",
    "    if len(deq) > 0:\n",
    "        node = deq.pop()\n",
    "        cmu_chain.add_joint(name=node.name,parent_name=node.parent.name,\n",
    "                p_offset=np.array(node.strans)[[2,0,1]]/10,R_offset=rpy2r(np.radians([0,0,0]))\n",
    "                )\n",
    "        joint_names.append(node.name)\n",
    "\n",
    "    for child in node.children:\n",
    "        deq.append(child)\n",
    "        \n",
    "\n",
    "# Plot chain\n",
    "cmu_chain.plot_chain_graph(figsize=(7,7),node_size=200,font_size_node=8,font_size_title=10)\n",
    "# Print chain info\n",
    "cmu_chain.forward_kinematics()\n",
    "cmu_chain.print_chain_info()"
   ]
  },
  {
   "cell_type": "markdown",
   "id": "c64e9ee1",
   "metadata": {},
   "source": [
    "### Dummy joint"
   ]
  },
  {
   "cell_type": "code",
   "execution_count": null,
   "id": "112379d8",
   "metadata": {},
   "outputs": [],
   "source": [
    "cmu_chain.add_joint(name='RightUpLegDummyJoint',parent_name='RightUpLeg',\n",
    "                p_offset=np.linalg.inv(rpy2r(np.radians(rot[0,cmu_chain.get_joint_idx('RightUpLeg')-1]))) @ np.array([-0.09, 0, 0.16]),\n",
    "                R_offset=rpy2r(np.radians([0,0,0])))\n",
    "# joint_names.append('RHipDummyJoint')\n",
    "cmu_chain.add_joint(name='LeftUpLegDummyJoint',parent_name='LeftUpLeg',\n",
    "                p_offset=np.linalg.inv(rpy2r(np.radians(rot[0,cmu_chain.get_joint_idx('LeftUpLeg')-1]))) @ np.array([-0.09, 0, 0.16]),\n",
    "                R_offset=rpy2r(np.radians([0,0,0])))\n",
    "# joint_names.append('LHipDummyJoint')\n",
    "\n",
    "# Plot chain\n",
    "cmu_chain.plot_chain_graph(figsize=(7,7),node_size=200,font_size_node=8,font_size_title=10)\n",
    "cmu_chain.print_chain_info()"
   ]
  },
  {
   "cell_type": "markdown",
   "id": "25d3b007",
   "metadata": {},
   "source": [
    "### Plot chain"
   ]
  },
  {
   "cell_type": "code",
   "execution_count": null,
   "id": "3c5149a3",
   "metadata": {},
   "outputs": [],
   "source": [
    "# Remove existing images\n",
    "png_paths = sorted(glob.glob('../temp/kin_chain_*.png'))\n",
    "for png_path in png_paths:\n",
    "    os.remove(png_path)\n",
    "print (\"[%d] images removed.\"%(len(png_paths)))"
   ]
  },
  {
   "cell_type": "code",
   "execution_count": null,
   "id": "eed5e27c",
   "metadata": {},
   "outputs": [],
   "source": [
    "# Configuration\n",
    "PLOT_EVERY = 4\n",
    "SAVE_VID   = True\n",
    "print (\"PLOT_EVERY:[%d] SAVE_VID:[%d]\"%(PLOT_EVERY,SAVE_VID))"
   ]
  },
  {
   "cell_type": "code",
   "execution_count": null,
   "id": "6823acfe",
   "metadata": {},
   "outputs": [],
   "source": [
    "# Loop\n",
    "xml_path = '../asset/object/floor_sky.xml'\n",
    "env = MuJoCoParserClass(name='Floor',rel_xml_path=xml_path,VERBOSE=False)\n",
    "env.init_viewer(viewer_title='Kinematic Chain',viewer_width=1200,viewer_height=800,\n",
    "                viewer_hide_menus=True)\n",
    "env.update_viewer(azimuth=177,distance=4.0,elevation=-28,lookat=[0.0,0.1,0.65],\n",
    "                  VIS_TRANSPARENT=False,VIS_CONTACTPOINT=True,\n",
    "                  contactwidth=0.05,contactheight=0.05,contactrgba=np.array([1,0,0,1]),\n",
    "                  VIS_JOINT=True,jointlength=0.5,jointwidth=0.1,\n",
    "                  jointrgba=[0.2,0.6,0.8,0.6])\n",
    "env.reset()\n",
    "p_joints = np.empty_like(pos)\n",
    "R_offset_joints = np.empty((pos.shape[0], pos.shape[1], 3, 3))\n",
    "# while (env.get_sim_time() < 100.0) and env.is_viewer_alive():\n",
    "for timestep in range(rot.shape[0]):\n",
    "    # Step\n",
    "    env.step()\n",
    "    i = env.tick % rot.shape[0]\n",
    "    # Forward Kinematics\n",
    "    R_offsets = []\n",
    "    cmu_chain.chain.nodes[1]['p_offset'] = pos[i, 0, :]\n",
    "    \n",
    "    for j in range(rot.shape[1]):\n",
    "        R_offsets.append(rpy2R(np.radians(rot[i,j]), [0,2,1]))\n",
    "        R_offset_joints[i-1, j, :, :] = rpy2R(np.radians(rot[i,j]), [0,2,1])\n",
    "\n",
    "    cmu_chain.set_R_offset(joint_names, R_offsets)\n",
    "    cmu_chain.forward_kinematics()\n",
    "    for j, joint_name in enumerate(joint_names):\n",
    "        p_joints[i-1, j, :] = cmu_chain.chain.nodes[cmu_chain.get_joint_idx(joint_name)]['p']\n",
    "    # Render\n",
    "    if (env.tick==1) or ((env.tick%PLOT_EVERY)==0):\n",
    "        env.plot_T(p=np.zeros(3,),R=np.eye(3),\n",
    "                   PLOT_AXIS=True,axis_len=0.1,axis_width=0.01,PLOT_SPHERE=False,\n",
    "                   label='World (tick:[%d] time:[%.1f]s)'%(env.tick,env.get_sim_time()))\n",
    "        # Plot chain in MuJoCo\n",
    "        cmu_chain.plot_chain_mujoco(env)\n",
    "        env.render()\n",
    "        if SAVE_VID:\n",
    "            # Save iamges\n",
    "            png_path = '../temp/kin_chain_%05d.png'%(env.tick)\n",
    "            create_folder_if_not_exists(png_path)\n",
    "            image = cv2.cvtColor(env.grab_image(),cv2.COLOR_RGB2BGR)\n",
    "            cv2.imwrite(png_path,image)\n",
    "        \n",
    "    # Save the current view\n",
    "    if env.loop_every(HZ=10): scene_img = env.grab_image()\n",
    "\n",
    "# Plot the final scene1\n",
    "plt.figure(figsize=(6,4)); plt.imshow(scene_img)\n",
    "plt.title(\"Tick:[%d] Time:[%.2f]sec\"%(env.tick,env.get_sim_time()),fontsize=9)\n",
    "plt.show()\n",
    "# Close viewer\n",
    "env.close_viewer()\n",
    "print (\"Done.\") "
   ]
  },
  {
   "cell_type": "markdown",
   "id": "a97f259d",
   "metadata": {},
   "source": [
    "### Save"
   ]
  },
  {
   "cell_type": "code",
   "execution_count": null,
   "id": "bb779330",
   "metadata": {},
   "outputs": [],
   "source": [
    "import pickle\n",
    "data = {\n",
    "    \"p\" : p_joints,\n",
    "    \"R\" : R_offset_joints\n",
    "}\n",
    "\n",
    "with open('data.pickle', 'wb') as f:\n",
    "    pickle.dump(data, f, pickle.HIGHEST_PROTOCOL)\n"
   ]
  },
  {
   "cell_type": "markdown",
   "id": "bd6de555",
   "metadata": {},
   "source": [
    "### Make video"
   ]
  },
  {
   "cell_type": "code",
   "execution_count": null,
   "id": "db16d1b8",
   "metadata": {},
   "outputs": [],
   "source": [
    "if SAVE_VID:\n",
    "    # Show video\n",
    "    png_paths = sorted(glob.glob('../temp/kin_chain_*.png'))\n",
    "    frames = []\n",
    "    for png_path in png_paths:\n",
    "        img_bgr = cv2.imread(png_path)\n",
    "        img_rgb = cv2.cvtColor(img_bgr,cv2.COLOR_BGR2RGB)\n",
    "        frames.append(img_rgb)\n",
    "    media.show_video(images=frames,fps=int(1/env.dt/PLOT_EVERY),width=500)\n",
    "    # Save video to mp4\n",
    "    vid_path = '../vid/kin_chain.mp4'\n",
    "    create_folder_if_not_exists(vid_path)\n",
    "    media.write_video(images=frames,fps=int(1/env.dt/PLOT_EVERY),path=vid_path)\n",
    "    print (\"[%s] saved.\"%(vid_path))"
   ]
  },
  {
   "cell_type": "code",
   "execution_count": null,
   "id": "483d1160",
   "metadata": {},
   "outputs": [],
   "source": [
    "# Remove existing images\n",
    "png_paths = sorted(glob.glob('../temp/kin_chain_*.png'))\n",
    "for png_path in png_paths:\n",
    "    os.remove(png_path)\n",
    "print (\"[%d] images removed.\"%(len(png_paths)))"
   ]
  }
 ],
 "metadata": {
  "kernelspec": {
   "display_name": "Python 3 (ipykernel)",
   "language": "python",
   "name": "python3"
  },
  "language_info": {
   "codemirror_mode": {
    "name": "ipython",
    "version": 3
   },
   "file_extension": ".py",
   "mimetype": "text/x-python",
   "name": "python",
   "nbconvert_exporter": "python",
   "pygments_lexer": "ipython3",
   "version": "3.8.16"
  }
 },
 "nbformat": 4,
 "nbformat_minor": 5
}
