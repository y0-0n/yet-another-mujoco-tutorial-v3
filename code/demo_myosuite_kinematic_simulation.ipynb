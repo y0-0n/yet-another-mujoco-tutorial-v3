{
 "cells": [
  {
   "cell_type": "markdown",
   "id": "a29fe503",
   "metadata": {},
   "source": [
    "### Simple motion play of `Common Rig` "
   ]
  },
  {
   "cell_type": "code",
   "execution_count": 1,
   "id": "318c9b2f",
   "metadata": {},
   "outputs": [
    {
     "name": "stdout",
     "output_type": "stream",
     "text": [
      "MuJoCo version:[2.3.7]\n"
     ]
    }
   ],
   "source": [
    "import pickle, os\n",
    "import mujoco\n",
    "import numpy as np\n",
    "import matplotlib.pyplot as plt\n",
    "from mujoco_parser import MuJoCoParserClass\n",
    "from util import rpy2r\n",
    "np.set_printoptions(precision=2,suppress=True,linewidth=100)\n",
    "plt.rc('xtick',labelsize=6); plt.rc('ytick',labelsize=6)\n",
    "%config InlineBackend.figure_format = 'retina'\n",
    "%matplotlib inline\n",
    "print (\"MuJoCo version:[%s]\"%(mujoco.__version__))"
   ]
  },
  {
   "cell_type": "markdown",
   "id": "be60ebf9",
   "metadata": {},
   "source": [
    "### Parse `scene_common_rig.xml`"
   ]
  },
  {
   "cell_type": "code",
   "execution_count": 2,
   "id": "4893b136",
   "metadata": {},
   "outputs": [
    {
     "name": "stdout",
     "output_type": "stream",
     "text": [
      "dt:[0.0010] HZ:[1000]\n",
      "n_dof (=nv):[34]\n",
      "n_geom:[93]\n",
      "geom_names:['floor', None, None, 'terrain', 'torso', None, None, None, None, 'humerus_r', 'ulna_rv', 'humerus_l', 'ulna_lv', 'hat_spine_coll', 'hat_jaw_coll2', 'hat_skull_coll', 'r_pelvis_col', 'l_pelvis_col', 'r_pelvis', 'l_pelvis', 'sacrum', 'Gmax1_at_pelvis_r_wrap', 'Gmax2_at_pelvis_r_wrap', 'Gmax3_at_pelvis_r_wrap', 'Gmax1_at_pelvis_l_wrap', 'Gmax2_at_pelvis_l_wrap', 'Gmax3_at_pelvis_l_wrap', 'PS_at_brim_r_wrap', 'PS_at_brim_l_wrap', 'IL_at_brim_r_wrap', 'IL_at_brim_l_wrap', 'r_femur1_col', 'r_femur2_col', 'r_femur', 'Gastroc_at_condyles_r_wrap', 'KnExt_at_fem_r_wrap', 'AB_at_femshaft_r_wrap', 'AL_at_femshaft_r_wrap', 'AMprox_at_femshaft_r_wrap', 'AMmid_at_femshaft_r_wrap', 'AMdist_at_femshaft_r_wrap', 'AMisch_at_condyles_r_wrap', 'PECT_at_femshaft_r_wrap', 'r_tibia1_col', 'r_tibia2_col', 'r_tibia', 'r_fibula', 'GasLat_at_shank_r_wrap', 'GasMed_at_shank_r_wrap', 'GR_at_condyles_r_wrap', 'SM_at_condyles_r_wrap', 'ST_at_condyles_r_wrap', 'BF_at_gastroc_r_wrap', 'r_talus', 'r_foot', 'r_foot_col1', 'r_foot_col3', 'r_foot_col4', 'r_bofoot_col1', 'r_bofoot_col2', 'r_bofoot', 'r_patella', 'l_femur1_col', 'l_femur2_col', 'l_femur', 'Gastroc_at_condyles_l_wrap', 'KnExt_at_fem_l_wrap', 'AB_at_femshaft_l_wrap', 'AL_at_femshaft_l_wrap', 'AMprox_at_femshaft_l_wrap', 'AMmid_at_femshaft_l_wrap', 'AMdist_at_femshaft_l_wrap', 'AMisch_at_condyles_l_wrap', 'PECT_at_femshaft_l_wrap', 'l_tibia1_col', 'l_tibia2_col', 'l_tibia', 'l_fibula', 'GasLat_at_shank_l_wrap', 'GasMed_at_shank_l_wrap', 'GR_at_condyles_l_wrap', 'SM_at_condyles_l_wrap', 'ST_at_condyles_l_wrap', 'BF_at_gastroc_l_wrap', 'l_talus', 'l_foot', 'l_foot_col1', 'l_foot_col3', 'l_foot_col4', 'l_bofoot_col1', 'l_bofoot_col2', 'l_bofoot', 'l_patella']\n",
      "n_body:[17]\n",
      "body_names:['world', 'root', 'torso', 'head', 'pelvis', 'femur_r', 'tibia_r', 'talus_r', 'calcn_r', 'toes_r', 'patella_r', 'femur_l', 'tibia_l', 'talus_l', 'calcn_l', 'toes_l', 'patella_l']\n",
      "n_joint:[29]\n",
      "joint_names:[None, 'hip_flexion_r', 'hip_adduction_r', 'hip_rotation_r', 'knee_angle_r_translation2', 'knee_angle_r_translation1', 'knee_angle_r', 'knee_angle_r_rotation2', 'knee_angle_r_rotation3', 'ankle_angle_r', 'subtalar_angle_r', 'mtp_angle_r', 'knee_angle_r_beta_translation2', 'knee_angle_r_beta_translation1', 'knee_angle_r_beta_rotation1', 'hip_flexion_l', 'hip_adduction_l', 'hip_rotation_l', 'knee_angle_l_translation2', 'knee_angle_l_translation1', 'knee_angle_l', 'knee_angle_l_rotation2', 'knee_angle_l_rotation3', 'ankle_angle_l', 'subtalar_angle_l', 'mtp_angle_l', 'knee_angle_l_beta_translation2', 'knee_angle_l_beta_translation1', 'knee_angle_l_beta_rotation1']\n",
      "joint_types:[0 3 3 3 2 2 3 3 3 3 3 3 2 2 3 3 3 3 2 2 3 3 3 3 3 3 2 2 3]\n",
      "joint_ranges:\n",
      "[[ 0.    0.  ]\n",
      " [-0.52  2.09]\n",
      " [-0.87  0.52]\n",
      " [-0.7   0.7 ]\n",
      " [ 0.    0.01]\n",
      " [ 0.    0.  ]\n",
      " [ 0.    2.09]\n",
      " [-0.    0.03]\n",
      " [ 0.    0.26]\n",
      " [-0.7   0.52]\n",
      " [-0.35  0.35]\n",
      " [-0.52  0.52]\n",
      " [-0.04 -0.01]\n",
      " [-0.02  0.05]\n",
      " [-1.79  0.01]\n",
      " [-0.52  2.09]\n",
      " [-0.87  0.52]\n",
      " [-0.7   0.7 ]\n",
      " [-0.01 -0.  ]\n",
      " [ 0.    0.  ]\n",
      " [ 0.    2.09]\n",
      " [-0.    0.03]\n",
      " [-0.26 -0.  ]\n",
      " [-0.7   0.52]\n",
      " [-0.35  0.35]\n",
      " [-0.52  0.52]\n",
      " [-0.04 -0.01]\n",
      " [-0.02  0.05]\n",
      " [-1.79  0.01]]\n",
      "n_rev_joint:[20]\n",
      "rev_joint_idxs:[ 1  2  3  6  7  8  9 10 11 14 15 16 17 20 21 22 23 24 25 28]\n",
      "rev_joint_names:['hip_flexion_r', 'hip_adduction_r', 'hip_rotation_r', 'knee_angle_r', 'knee_angle_r_rotation2', 'knee_angle_r_rotation3', 'ankle_angle_r', 'subtalar_angle_r', 'mtp_angle_r', 'knee_angle_r_beta_rotation1', 'hip_flexion_l', 'hip_adduction_l', 'hip_rotation_l', 'knee_angle_l', 'knee_angle_l_rotation2', 'knee_angle_l_rotation3', 'ankle_angle_l', 'subtalar_angle_l', 'mtp_angle_l', 'knee_angle_l_beta_rotation1']\n",
      "rev_joint_mins:[-0.52 -0.87 -0.7   0.   -0.    0.   -0.7  -0.35 -0.52 -1.79 -0.52 -0.87 -0.7   0.   -0.   -0.26\n",
      " -0.7  -0.35 -0.52 -1.79]\n",
      "rev_joint_maxs:[ 2.09  0.52  0.7   2.09  0.03  0.26  0.52  0.35  0.52  0.01  2.09  0.52  0.7   2.09  0.03 -0.\n",
      "  0.52  0.35  0.52  0.01]\n",
      "rev_joint_ranges:[2.62 1.4  1.4  2.09 0.04 0.26 1.22 0.7  1.05 1.8  2.62 1.4  1.4  2.09 0.04 0.26 1.22 0.7  1.05\n",
      " 1.8 ]\n",
      "n_pri_joint:[8]\n",
      "pri_joint_idxs:[ 4  5 12 13 18 19 26 27]\n",
      "pri_joint_names:['knee_angle_r_translation2', 'knee_angle_r_translation1', 'knee_angle_r_beta_translation2', 'knee_angle_r_beta_translation1', 'knee_angle_l_translation2', 'knee_angle_l_translation1', 'knee_angle_l_beta_translation2', 'knee_angle_l_beta_translation1']\n",
      "pri_joint_mins:[ 0.    0.   -0.04 -0.02 -0.01  0.   -0.04 -0.02]\n",
      "pri_joint_maxs:[ 0.01  0.   -0.01  0.05 -0.    0.   -0.01  0.05]\n",
      "pri_joint_ranges:[0.01 0.   0.03 0.08 0.01 0.   0.03 0.08]\n",
      "n_ctrl:[80]\n",
      "ctrl_names:['addbrev_r', 'addlong_r', 'addmagDist_r', 'addmagIsch_r', 'addmagMid_r', 'addmagProx_r', 'bflh_r', 'bfsh_r', 'edl_r', 'ehl_r', 'fdl_r', 'fhl_r', 'gaslat_r', 'gasmed_r', 'glmax1_r', 'glmax2_r', 'glmax3_r', 'glmed1_r', 'glmed2_r', 'glmed3_r', 'glmin1_r', 'glmin2_r', 'glmin3_r', 'grac_r', 'iliacus_r', 'perbrev_r', 'perlong_r', 'piri_r', 'psoas_r', 'recfem_r', 'sart_r', 'semimem_r', 'semiten_r', 'soleus_r', 'tfl_r', 'tibant_r', 'tibpost_r', 'vasint_r', 'vaslat_r', 'vasmed_r', 'addbrev_l', 'addlong_l', 'addmagDist_l', 'addmagIsch_l', 'addmagMid_l', 'addmagProx_l', 'bflh_l', 'bfsh_l', 'edl_l', 'ehl_l', 'fdl_l', 'fhl_l', 'gaslat_l', 'gasmed_l', 'glmax1_l', 'glmax2_l', 'glmax3_l', 'glmed1_l', 'glmed2_l', 'glmed3_l', 'glmin1_l', 'glmin2_l', 'glmin3_l', 'grac_l', 'iliacus_l', 'perbrev_l', 'perlong_l', 'piri_l', 'psoas_l', 'recfem_l', 'sart_l', 'semimem_l', 'semiten_l', 'soleus_l', 'tfl_l', 'tibant_l', 'tibpost_l', 'vasint_l', 'vaslat_l', 'vasmed_l']\n",
      "ctrl_joint_idxs:[]\n",
      "ctrl_joint_names:[]\n",
      "ctrl_ranges:\n",
      "[[0. 1.]\n",
      " [0. 1.]\n",
      " [0. 1.]\n",
      " [0. 1.]\n",
      " [0. 1.]\n",
      " [0. 1.]\n",
      " [0. 1.]\n",
      " [0. 1.]\n",
      " [0. 1.]\n",
      " [0. 1.]\n",
      " [0. 1.]\n",
      " [0. 1.]\n",
      " [0. 1.]\n",
      " [0. 1.]\n",
      " [0. 1.]\n",
      " [0. 1.]\n",
      " [0. 1.]\n",
      " [0. 1.]\n",
      " [0. 1.]\n",
      " [0. 1.]\n",
      " [0. 1.]\n",
      " [0. 1.]\n",
      " [0. 1.]\n",
      " [0. 1.]\n",
      " [0. 1.]\n",
      " [0. 1.]\n",
      " [0. 1.]\n",
      " [0. 1.]\n",
      " [0. 1.]\n",
      " [0. 1.]\n",
      " [0. 1.]\n",
      " [0. 1.]\n",
      " [0. 1.]\n",
      " [0. 1.]\n",
      " [0. 1.]\n",
      " [0. 1.]\n",
      " [0. 1.]\n",
      " [0. 1.]\n",
      " [0. 1.]\n",
      " [0. 1.]\n",
      " [0. 1.]\n",
      " [0. 1.]\n",
      " [0. 1.]\n",
      " [0. 1.]\n",
      " [0. 1.]\n",
      " [0. 1.]\n",
      " [0. 1.]\n",
      " [0. 1.]\n",
      " [0. 1.]\n",
      " [0. 1.]\n",
      " [0. 1.]\n",
      " [0. 1.]\n",
      " [0. 1.]\n",
      " [0. 1.]\n",
      " [0. 1.]\n",
      " [0. 1.]\n",
      " [0. 1.]\n",
      " [0. 1.]\n",
      " [0. 1.]\n",
      " [0. 1.]\n",
      " [0. 1.]\n",
      " [0. 1.]\n",
      " [0. 1.]\n",
      " [0. 1.]\n",
      " [0. 1.]\n",
      " [0. 1.]\n",
      " [0. 1.]\n",
      " [0. 1.]\n",
      " [0. 1.]\n",
      " [0. 1.]\n",
      " [0. 1.]\n",
      " [0. 1.]\n",
      " [0. 1.]\n",
      " [0. 1.]\n",
      " [0. 1.]\n",
      " [0. 1.]\n",
      " [0. 1.]\n",
      " [0. 1.]\n",
      " [0. 1.]\n",
      " [0. 1.]]\n",
      "n_sensor:[4]\n",
      "sensor_names:['r_foot', 'r_toes', 'l_foot', 'l_toes']\n",
      "n_site:[374]\n",
      "site_names:['pelvis_target', 'pelvis', 'addbrev_r-P1', 'addlong_r-P1', 'addmagDist_r-P1', 'addmagIsch_r-P1', 'addmagMid_r-P1', 'addmagProx_r-P1', 'bflh_r-P1', 'glmax1_r-P1', 'glmax1_r-P2', 'glmax2_r-P1', 'glmax2_r-P2', 'glmax3_r-P1', 'glmax3_r-P2', 'glmed1_r-P1', 'glmed2_r-P1', 'glmed3_r-P1', 'glmin1_r-P1', 'glmin2_r-P1', 'glmin3_r-P1', 'grac_r-P1', 'iliacus_r-P1', 'iliacus_r-P2', 'piri_r-P1', 'piri_r-P2', 'psoas_r-P1', 'psoas_r-P2', 'recfem_r-P1', 'sart_r-P1', 'semimem_r-P1', 'semiten_r-P1', 'tfl_r-P1', 'addbrev_l-P1', 'addlong_l-P1', 'addmagDist_l-P1', 'addmagIsch_l-P1', 'addmagMid_l-P1', 'addmagProx_l-P1', 'bflh_l-P1', 'glmax1_l-P1', 'glmax1_l-P2', 'glmax2_l-P1', 'glmax2_l-P2', 'glmax3_l-P1', 'glmax3_l-P2', 'glmed1_l-P1', 'glmed2_l-P1', 'glmed3_l-P1', 'glmin1_l-P1', 'glmin2_l-P1', 'glmin3_l-P1', 'grac_l-P1', 'iliacus_l-P1', 'iliacus_l-P2', 'piri_l-P1', 'piri_l-P2', 'psoas_l-P1', 'psoas_l-P2', 'recfem_l-P1', 'sart_l-P1', 'semimem_l-P1', 'semiten_l-P1', 'tfl_l-P1', 'RASI', 'LASI', 'RPSI', 'LPSI', 'Gmax1_at_pelvis_r_site_glmax1_r_side', 'Gmax2_at_pelvis_r_site_glmax2_r_side', 'Gmax3_at_pelvis_r_site_glmax3_r_side', 'Gmax1_at_pelvis_l_site_glmax1_l_side', 'Gmax2_at_pelvis_l_site_glmax2_l_side', 'Gmax3_at_pelvis_l_site_glmax3_l_side', 'PS_at_brim_r_site_psoas_r_side', 'PS_at_brim_l_site_psoas_l_side', 'IL_at_brim_r_site_iliacus_r_side', 'IL_at_brim_l_site_iliacus_l_side', 'addbrev_r-P2', 'addlong_r-P2', 'addmagDist_r-P2', 'addmagIsch_r-P2', 'addmagMid_r-P2', 'addmagProx_r-P2', 'bfsh_r-P1', 'gaslat_r-P1', 'gasmed_r-P1', 'glmax1_r-P3', 'glmax1_r-P4', 'glmax2_r-P3', 'glmax2_r-P4', 'glmax3_r-P3', 'glmax3_r-P4', 'glmed1_r-P2', 'glmed2_r-P2', 'glmed3_r-P2', 'glmin1_r-P2', 'glmin2_r-P2', 'glmin3_r-P2', 'iliacus_r-P3', 'iliacus_r-P4', 'piri_r-P3', 'psoas_r-P3', 'psoas_r-P4', 'sart_r-P2', 'tfl_r-P2', 'tfl_r-P3', 'vasint_r-P1', 'vasint_r-P2', 'vaslat_r-P1', 'vaslat_r-P2', 'vasmed_r-P1', 'vasmed_r-P2', 'RHJC', 'RTH1', 'RTH2', 'RTH3', 'RLFC', 'RMFC', 'KnExt_at_fem_r_site_recfem_r_side', 'KnExt_at_fem_r_site_vasint_r_side', 'KnExt_at_fem_r_site_vaslat_r_side', 'KnExt_at_fem_r_site_vasmed_r_side', 'AB_at_femshaft_r_site_addbrev_r_side', 'AL_at_femshaft_r_site_addlong_r_side', 'AMprox_at_femshaft_r_site_addmagProx_r_side', 'AMmid_at_femshaft_r_site_addmagMid_r_side', 'AMdist_at_femshaft_r_site_addmagDist_r_side', 'AMisch_at_condyles_r_site_addmagIsch_r_side', 'bflh_r-P2', 'bflh_r-P3', 'bfsh_r-P2', 'edl_r-P1', 'edl_r-P2', 'ehl_r-P1', 'ehl_r-P2', 'ehl_r-P3', 'fdl_r-P1', 'fdl_r-P2', 'fhl_r-P1', 'fhl_r-P2', 'grac_r-P2', 'grac_r-P3', 'perbrev_r-P1', 'perbrev_r-P2', 'perbrev_r-P3', 'perlong_r-P1', 'perlong_r-P2', 'perlong_r-P3', 'recfem_r-P5', 'sart_r-P3', 'sart_r-P4', 'sart_r-P5', 'semimem_r-P2', 'semiten_r-P2', 'semiten_r-P3', 'soleus_r-P1', 'tfl_r-P4', 'tibant_r-P1', 'tibant_r-P2', 'tibant_r-P3', 'tibpost_r-P1', 'tibpost_r-P2', 'vasint_r-P5', 'vaslat_r-P5', 'vasmed_r-P5', 'RKJC', 'RTB1', 'RTB2', 'RTB3', 'RLMAL', 'RMMAL', 'R_tibial_plateau', 'GasLat_at_shank_r_site_gaslat_r_side', 'GasMed_at_shank_r_site_gasmed_r_side', 'GR_at_condyles_r_site_grac_r_side', 'SM_at_condyles_r_site_semimem_r_side', 'ST_at_condyles_r_site_semiten_r_side', 'BF_at_gastroc_r_site_bfsh_r_side', 'RAJC', 'edl_r-P3', 'edl_r-P4', 'ehl_r-P4', 'ehl_r-P5', 'ehl_r-P6', 'fdl_r-P3', 'fdl_r-P4', 'fdl_r-P5', 'fhl_r-P3', 'fhl_r-P4', 'fhl_r-P5', 'gaslat_r-P2', 'gasmed_r-P2', 'perbrev_r-P4', 'perbrev_r-P5', 'perlong_r-P4', 'perlong_r-P5', 'perlong_r-P6', 'perlong_r-P7', 'soleus_r-P2', 'tibant_r-P4', 'tibpost_r-P3', 'tibpost_r-P4', 'RCAL', 'RTOE', 'RMT5', 'r_foot_touch', 'r_toes_touch', 'edl_r-P5', 'edl_r-P6', 'ehl_r-P7', 'ehl_r-P8', 'fdl_r-P6', 'fdl_r-P7', 'fdl_r-P8', 'fhl_r-P6', 'fhl_r-P7', 'recfem_r-P2', 'recfem_r-P3', 'recfem_r-P4', 'vasint_r-P3', 'vasint_r-P4', 'vaslat_r-P3', 'vaslat_r-P4', 'vasmed_r-P3', 'vasmed_r-P4', 'addbrev_l-P2', 'addlong_l-P2', 'addmagDist_l-P2', 'addmagIsch_l-P2', 'addmagMid_l-P2', 'addmagProx_l-P2', 'bfsh_l-P1', 'gaslat_l-P1', 'gasmed_l-P1', 'glmax1_l-P3', 'glmax1_l-P4', 'glmax2_l-P3', 'glmax2_l-P4', 'glmax3_l-P3', 'glmax3_l-P4', 'glmed1_l-P2', 'glmed2_l-P2', 'glmed3_l-P2', 'glmin1_l-P2', 'glmin2_l-P2', 'glmin3_l-P2', 'iliacus_l-P3', 'iliacus_l-P4', 'piri_l-P3', 'psoas_l-P3', 'psoas_l-P4', 'sart_l-P2', 'tfl_l-P2', 'tfl_l-P3', 'vasint_l-P1', 'vasint_l-P2', 'vaslat_l-P1', 'vaslat_l-P2', 'vasmed_l-P1', 'vasmed_l-P2', 'LHJC', 'LTH1', 'LTH2', 'LTH3', 'LLFC', 'LMFC', 'KnExt_at_fem_l_site_recfem_l_side', 'KnExt_at_fem_l_site_vasint_l_side', 'KnExt_at_fem_l_site_vaslat_l_side', 'KnExt_at_fem_l_site_vasmed_l_side', 'AB_at_femshaft_l_site_addbrev_l_side', 'AL_at_femshaft_l_site_addlong_l_side', 'AMprox_at_femshaft_l_site_addmagProx_l_side', 'AMmid_at_femshaft_l_site_addmagMid_l_side', 'AMdist_at_femshaft_l_site_addmagDist_l_side', 'AMisch_at_condyles_l_site_addmagIsch_l_side', 'bflh_l-P2', 'bflh_l-P3', 'bfsh_l-P2', 'edl_l-P1', 'edl_l-P2', 'ehl_l-P1', 'ehl_l-P2', 'ehl_l-P3', 'fdl_l-P1', 'fdl_l-P2', 'fhl_l-P1', 'fhl_l-P2', 'grac_l-P2', 'grac_l-P3', 'perbrev_l-P1', 'perbrev_l-P2', 'perbrev_l-P3', 'perlong_l-P1', 'perlong_l-P2', 'perlong_l-P3', 'recfem_l-P5', 'sart_l-P3', 'sart_l-P4', 'sart_l-P5', 'semimem_l-P2', 'semiten_l-P2', 'semiten_l-P3', 'soleus_l-P1', 'tfl_l-P4', 'tibant_l-P1', 'tibant_l-P2', 'tibant_l-P3', 'tibpost_l-P1', 'tibpost_l-P2', 'vasint_l-P5', 'vaslat_l-P5', 'vasmed_l-P5', 'LKJC', 'LTB1', 'LTB2', 'LTB3', 'LLMAL', 'LMMAL', 'L_tibial_plateau', 'GasLat_at_shank_l_site_gaslat_l_side', 'GasMed_at_shank_l_site_gasmed_l_side', 'GR_at_condyles_l_site_grac_l_side', 'SM_at_condyles_l_site_semimem_l_side', 'ST_at_condyles_l_site_semiten_l_side', 'BF_at_gastroc_l_site_bfsh_l_side', 'LAJC', 'edl_l-P3', 'edl_l-P4', 'ehl_l-P4', 'ehl_l-P5', 'ehl_l-P6', 'fdl_l-P3', 'fdl_l-P4', 'fdl_l-P5', 'fhl_l-P3', 'fhl_l-P4', 'fhl_l-P5', 'gaslat_l-P2', 'gasmed_l-P2', 'perbrev_l-P4', 'perbrev_l-P5', 'perlong_l-P4', 'perlong_l-P5', 'perlong_l-P6', 'perlong_l-P7', 'soleus_l-P2', 'tibant_l-P4', 'tibpost_l-P3', 'tibpost_l-P4', 'LCAL', 'LTOE', 'LMT5', 'l_foot_touch', 'l_toes_touch', 'edl_l-P5', 'edl_l-P6', 'ehl_l-P7', 'ehl_l-P8', 'fdl_l-P6', 'fdl_l-P7', 'fdl_l-P8', 'fhl_l-P6', 'fhl_l-P7', 'recfem_l-P2', 'recfem_l-P3', 'recfem_l-P4', 'vasint_l-P3', 'vasint_l-P4', 'vaslat_l-P3', 'vaslat_l-P4', 'vasmed_l-P3', 'vasmed_l-P4']\n",
      "Done.\n"
     ]
    }
   ],
   "source": [
    "xml_path = '../asset/myo_sim/myolegs_v0.56(mj237).mjb'\n",
    "# xml_path = '../asset/common_rig/scene_common_rig_v2.xml'\n",
    "env = MuJoCoParserClass(name='myosuite',rel_xml_path=xml_path,VERBOSE=True)\n",
    "# Modify the color of body exluding 'world'\n",
    "for body_name in env.body_names:\n",
    "    if body_name in ['world']: continue\n",
    "    body_idx = env.body_names.index(body_name)\n",
    "    geom_idxs = [idx for idx,val in enumerate(env.model.geom_bodyid) if val==body_idx]\n",
    "    for geom_idx in geom_idxs:\n",
    "        env.model.geom(geom_idx).rgba = [0.3,0.3,0.5,0.5]\n",
    "print (\"Done.\")"
   ]
  },
  {
   "cell_type": "code",
   "execution_count": 3,
   "id": "90d21d04",
   "metadata": {},
   "outputs": [],
   "source": [
    "# Set which joints to control\n",
    "rev_joint_names = env.rev_joint_names # <==\n",
    "joint_idxs_fwd = env.get_idxs_fwd(joint_names=rev_joint_names)\n",
    "joint_idxs_jac = env.get_idxs_jac(joint_names=rev_joint_names)\n",
    "q_rev_init = env.get_qpos_joints(rev_joint_names)\n",
    "n_rev_joint = len(rev_joint_names)"
   ]
  },
  {
   "cell_type": "markdown",
   "id": "0346dc57",
   "metadata": {},
   "source": [
    "### Load motion and playback"
   ]
  },
  {
   "cell_type": "code",
   "execution_count": 4,
   "id": "d436ff50",
   "metadata": {},
   "outputs": [],
   "source": [
    "motion_file_path = os.path.join(\"../asset/myo_sim/motion/myolegs_walk.npy\")\n",
    "device='cpu'"
   ]
  },
  {
   "cell_type": "code",
   "execution_count": 9,
   "id": "c618f7cf",
   "metadata": {},
   "outputs": [
    {
     "name": "stdout",
     "output_type": "stream",
     "text": [
      "Loading 1/1 motion files: ../asset/myo_sim/motion/myolegs_walk.npy\n",
      "Loaded 1 motions with a total length of 2.483s.\n"
     ]
    }
   ],
   "source": [
    "from amp.utils.motion_lib import MotionLib\n",
    "motion_lib = MotionLib(motion_file=motion_file_path,\n",
    "                       num_dofs=env.n_rev_joint,\n",
    "                       key_body_ids=np.array([]),\n",
    "                       device=device)\n",
    "motion_lib.get_motion(0)\n",
    "qs = motion_lib.get_motion(0)._q_pos#[:,list(range(0,4))+list(range(5,12))+list(range(13,37))]\n",
    "p_roots = motion_lib.get_motion(0).root_translation\n",
    "p_roots[:,2] -= 0.65\n",
    "# p_roots[:,2] += 0.5\n",
    "quat_roots = motion_lib.get_motion(0).global_root_rotation\n",
    "L = qs.shape[0]"
   ]
  },
  {
   "cell_type": "code",
   "execution_count": 10,
   "id": "1d57b67c",
   "metadata": {},
   "outputs": [
    {
     "data": {
      "text/plain": [
       "20"
      ]
     },
     "execution_count": 10,
     "metadata": {},
     "output_type": "execute_result"
    }
   ],
   "source": [
    "len(joint_idxs_fwd)"
   ]
  },
  {
   "cell_type": "code",
   "execution_count": 11,
   "id": "a520945e",
   "metadata": {},
   "outputs": [
    {
     "name": "stdout",
     "output_type": "stream",
     "text": [
      "Pressed ESC\n",
      "Quitting.\n",
      "Done.\n"
     ]
    }
   ],
   "source": [
    "# Initialize MuJoCo viewer\n",
    "env.init_viewer(viewer_title='MyoSuite',viewer_width=1200,viewer_height=800,\n",
    "                viewer_hide_menus=True)\n",
    "env.update_viewer(azimuth=152,distance=3.0,elevation=-30,lookat=[0.02,-0.03,0.8])\n",
    "env.reset()\n",
    "tick = 0\n",
    "while env.is_viewer_alive():\n",
    "    # Update \n",
    "    q = qs[tick,:] # [35]\n",
    "    p_root = p_roots[tick,:] # [3]\n",
    "    quat_root = quat_roots[tick,:] # [4] quaternion\n",
    "    # tick = min(tick+1,L-1)\n",
    "    if tick==(L-1): tick = 0\n",
    "    else: tick = tick + 1\n",
    "    env.set_p_root(root_name='root',p=p_root)\n",
    "    env.set_quat_root(root_name='root',quat=q[3:7])\n",
    "    env.forward(q=q[joint_idxs_fwd],joint_idxs=joint_idxs_fwd)\n",
    "    \n",
    "    if env.loop_every(tick_every=1):\n",
    "        # Plot world frame\n",
    "        env.plot_T(p=np.zeros(3),R=np.eye(3,3),\n",
    "                   PLOT_AXIS=True,axis_len=0.5,axis_width=0.005)\n",
    "        env.plot_T(p=np.array([0,0,0.5]),R=np.eye(3,3),\n",
    "                   PLOT_AXIS=False,label=\"tick:[%d]\"%(tick))\n",
    "        # Plot foot\n",
    "        env.plot_geom_T(geom_name='r_foot',axis_len=0.3)\n",
    "        env.plot_geom_T(geom_name='l_foot',axis_len=0.3)\n",
    "        # Plot revolute joints with arrow\n",
    "        env.plot_joint_axis(axis_len=0.1,axis_r=0.01)    \n",
    "        # Plot contact information\n",
    "        env.plot_contact_info(h_arrow=0.3,rgba_arrow=[1,0,0,1],\n",
    "                              PRINT_CONTACT_BODY=False)\n",
    "\n",
    "        env.render()\n",
    "# Close MuJoCo viewer\n",
    "env.close_viewer()\n",
    "print (\"Done.\")"
   ]
  },
  {
   "cell_type": "code",
   "execution_count": null,
   "id": "1d471282",
   "metadata": {},
   "outputs": [],
   "source": []
  }
 ],
 "metadata": {
  "kernelspec": {
   "display_name": "Python 3 (ipykernel)",
   "language": "python",
   "name": "python3"
  },
  "language_info": {
   "codemirror_mode": {
    "name": "ipython",
    "version": 3
   },
   "file_extension": ".py",
   "mimetype": "text/x-python",
   "name": "python",
   "nbconvert_exporter": "python",
   "pygments_lexer": "ipython3",
   "version": "3.8.16"
  }
 },
 "nbformat": 4,
 "nbformat_minor": 5
}
