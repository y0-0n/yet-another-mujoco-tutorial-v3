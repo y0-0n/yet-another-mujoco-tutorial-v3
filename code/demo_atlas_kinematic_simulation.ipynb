{
 "cells": [
  {
   "cell_type": "markdown",
   "id": "a29fe503",
   "metadata": {},
   "source": [
    "### Simple motion play of `Atlas` "
   ]
  },
  {
   "cell_type": "code",
   "execution_count": 1,
   "id": "318c9b2f",
   "metadata": {},
   "outputs": [
    {
     "name": "stdout",
     "output_type": "stream",
     "text": [
      "MuJoCo version:[2.3.7]\n"
     ]
    }
   ],
   "source": [
    "import pickle, os\n",
    "import mujoco\n",
    "import numpy as np\n",
    "import matplotlib.pyplot as plt\n",
    "from mujoco_parser import MuJoCoParserClass\n",
    "from util import rpy2r, quat2r\n",
    "np.set_printoptions(precision=2,suppress=True,linewidth=100)\n",
    "plt.rc('xtick',labelsize=6); plt.rc('ytick',labelsize=6)\n",
    "%config InlineBackend.figure_format = 'retina'\n",
    "%matplotlib inline\n",
    "print (\"MuJoCo version:[%s]\"%(mujoco.__version__))"
   ]
  },
  {
   "cell_type": "markdown",
   "id": "be60ebf9",
   "metadata": {},
   "source": [
    "### Parse `scene_atlas.xml`"
   ]
  },
  {
   "cell_type": "code",
   "execution_count": 2,
   "id": "4893b136",
   "metadata": {},
   "outputs": [
    {
     "name": "stdout",
     "output_type": "stream",
     "text": [
      "dt:[0.0083] HZ:[120]\n",
      "n_dof (=nv):[36]\n",
      "n_geom:[128]\n",
      "geom_names:['floor', None, None, None, None, None, None, None, None, None, None, None, None, None, None, None, None, None, None, None, None, None, None, None, None, None, None, None, None, None, None, None, None, None, None, None, None, None, None, None, None, None, None, None, None, None, None, None, None, None, None, None, None, None, None, None, None, None, None, None, None, None, None, None, None, None, None, None, None, None, None, None, None, None, None, None, None, None, None, None, None, None, None, None, None, None, None, None, None, None, None, None, None, None, None, None, None, None, None, None, None, None, None, 'l_foot', None, None, None, None, None, None, None, None, None, None, None, None, None, None, None, None, None, None, None, None, None, 'r_foot', None, None]\n",
      "n_body:[32]\n",
      "body_names:['world', 'pelvis', 'ltorso', 'mtorso', 'utorso', 'head', 'l_clav', 'l_scap', 'l_uarm', 'l_larm', 'l_ufarm', 'l_lfarm', 'l_hand', 'r_clav', 'r_scap', 'r_uarm', 'r_larm', 'r_ufarm', 'r_lfarm', 'r_hand', 'l_uglut', 'l_lglut', 'l_uleg', 'l_lleg', 'l_talus', 'l_foot', 'r_uglut', 'r_lglut', 'r_uleg', 'r_lleg', 'r_talus', 'r_foot']\n",
      "n_joint:[31]\n",
      "joint_names:[None, 'back_bkz', 'back_bky', 'back_bkx', 'neck_ry', 'l_arm_shz', 'l_arm_shx', 'l_arm_ely', 'l_arm_elx', 'l_arm_wry', 'l_arm_wrx', 'l_arm_wry2', 'r_arm_shz', 'r_arm_shx', 'r_arm_ely', 'r_arm_elx', 'r_arm_wry', 'r_arm_wrx', 'r_arm_wry2', 'l_leg_hpz', 'l_leg_hpx', 'l_leg_hpy', 'l_leg_kny', 'l_leg_aky', 'l_leg_akx', 'r_leg_hpz', 'r_leg_hpx', 'r_leg_hpy', 'r_leg_kny', 'r_leg_aky', 'r_leg_akx']\n",
      "joint_types:[0 3 3 3 3 3 3 3 3 3 3 3 3 3 3 3 3 3 3 3 3 3 3 3 3 3 3 3 3 3 3]\n",
      "joint_ranges:\n",
      "[[ 0.    0.  ]\n",
      " [-0.66  0.66]\n",
      " [-0.22  0.54]\n",
      " [-0.52  0.52]\n",
      " [-0.6   1.14]\n",
      " [-1.57  0.79]\n",
      " [-1.57  1.57]\n",
      " [ 0.    3.14]\n",
      " [ 0.    2.36]\n",
      " [-3.01  3.01]\n",
      " [-1.76  1.76]\n",
      " [-2.97  2.97]\n",
      " [-0.79  1.57]\n",
      " [-1.57  1.57]\n",
      " [ 0.    3.14]\n",
      " [-2.36  0.  ]\n",
      " [-3.01  3.01]\n",
      " [-1.76  1.76]\n",
      " [-2.97  2.97]\n",
      " [-0.17  0.79]\n",
      " [-0.52  0.52]\n",
      " [-1.61  0.66]\n",
      " [ 0.    2.36]\n",
      " [-1.    0.7 ]\n",
      " [-0.8   0.8 ]\n",
      " [-0.79  0.17]\n",
      " [-0.52  0.52]\n",
      " [-1.61  0.66]\n",
      " [ 0.    2.36]\n",
      " [-1.    0.7 ]\n",
      " [-0.8   0.8 ]]\n",
      "n_rev_joint:[30]\n",
      "rev_joint_idxs:[ 1  2  3  4  5  6  7  8  9 10 11 12 13 14 15 16 17 18 19 20 21 22 23 24 25 26 27 28 29 30]\n",
      "rev_joint_names:['back_bkz', 'back_bky', 'back_bkx', 'neck_ry', 'l_arm_shz', 'l_arm_shx', 'l_arm_ely', 'l_arm_elx', 'l_arm_wry', 'l_arm_wrx', 'l_arm_wry2', 'r_arm_shz', 'r_arm_shx', 'r_arm_ely', 'r_arm_elx', 'r_arm_wry', 'r_arm_wrx', 'r_arm_wry2', 'l_leg_hpz', 'l_leg_hpx', 'l_leg_hpy', 'l_leg_kny', 'l_leg_aky', 'l_leg_akx', 'r_leg_hpz', 'r_leg_hpx', 'r_leg_hpy', 'r_leg_kny', 'r_leg_aky', 'r_leg_akx']\n",
      "rev_joint_mins:[-0.66 -0.22 -0.52 -0.6  -1.57 -1.57  0.    0.   -3.01 -1.76 -2.97 -0.79 -1.57  0.   -2.36 -3.01\n",
      " -1.76 -2.97 -0.17 -0.52 -1.61  0.   -1.   -0.8  -0.79 -0.52 -1.61  0.   -1.   -0.8 ]\n",
      "rev_joint_maxs:[0.66 0.54 0.52 1.14 0.79 1.57 3.14 2.36 3.01 1.76 2.97 1.57 1.57 3.14 0.   3.01 1.76 2.97 0.79\n",
      " 0.52 0.66 2.36 0.7  0.8  0.17 0.52 0.66 2.36 0.7  0.8 ]\n",
      "rev_joint_ranges:[1.33 0.76 1.05 1.75 2.36 3.14 3.14 2.36 6.02 3.53 5.93 2.36 3.14 3.14 2.36 6.02 3.53 5.93 0.96\n",
      " 1.05 2.27 2.36 1.7  1.6  0.96 1.05 2.27 2.36 1.7  1.6 ]\n",
      "n_pri_joint:[0]\n",
      "pri_joint_idxs:[]\n",
      "pri_joint_names:[]\n",
      "pri_joint_mins:[]\n",
      "pri_joint_maxs:[]\n",
      "pri_joint_ranges:[]\n",
      "n_ctrl:[30]\n",
      "ctrl_names:['back_bkz_actuator', 'back_bky_actuator', 'back_bkx_actuator', 'neck_ry_actuator', 'l_arm_shz_actuator', 'l_arm_shx_actuator', 'l_arm_ely_actuator', 'l_arm_elx_actuator', 'l_arm_wry_actuator', 'l_arm_wrx_actuator', 'l_arm_wry2_ctuator', 'r_arm_shz_actuator', 'r_arm_shx_actuator', 'r_arm_ely_actuator', 'r_arm_elx_actuator', 'r_arm_wry_actuator', 'r_arm_wrx_actuator', 'r_arm_wry2_actuator', 'l_leg_hpz_actuator', 'l_leg_hpx_actuator', 'l_leg_hpy_actuator', 'l_leg_kny_actuator', 'l_leg_aky_actuator', 'l_leg_akx_actuator', 'r_leg_hpz_actuator', 'r_leg_hpx_actuator', 'r_leg_hpy_actuator', 'r_leg_kny_actuator', 'r_leg_aky_actuator', 'r_leg_akx_actuator']\n",
      "ctrl_joint_idxs:[7, 8, 9, 10, 11, 12, 13, 14, 15, 16, 17, 18, 19, 20, 21, 22, 23, 24, 25, 26, 27, 28, 29, 30, 31, 32, 33, 34, 35, 36]\n",
      "ctrl_joint_names:['back_bkz', 'back_bky', 'back_bkx', 'neck_ry', 'l_arm_shz', 'l_arm_shx', 'l_arm_ely', 'l_arm_elx', 'l_arm_wry', 'l_arm_wrx', 'l_arm_wry2', 'r_arm_shz', 'r_arm_shx', 'r_arm_ely', 'r_arm_elx', 'r_arm_wry', 'r_arm_wrx', 'r_arm_wry2', 'l_leg_hpz', 'l_leg_hpx', 'l_leg_hpy', 'l_leg_kny', 'l_leg_aky', 'l_leg_akx', 'r_leg_hpz', 'r_leg_hpx', 'r_leg_hpy', 'r_leg_kny', 'r_leg_aky', 'r_leg_akx']\n",
      "ctrl_qvel_idxs:[6, 7, 8, 9, 10, 11, 12, 13, 14, 15, 16, 17, 18, 19, 20, 21, 22, 23, 24, 25, 26, 27, 28, 29, 30, 31, 32, 33, 34, 35]\n",
      "ctrl_ranges:\n",
      "[[-0.95  0.95]\n",
      " [-0.95  0.95]\n",
      " [-0.95  0.95]\n",
      " [-0.95  0.95]\n",
      " [-0.95  0.95]\n",
      " [-0.95  0.95]\n",
      " [-0.95  0.95]\n",
      " [-0.95  0.95]\n",
      " [-0.95  0.95]\n",
      " [-0.95  0.95]\n",
      " [-0.95  0.95]\n",
      " [-0.95  0.95]\n",
      " [-0.95  0.95]\n",
      " [-0.95  0.95]\n",
      " [-0.95  0.95]\n",
      " [-0.95  0.95]\n",
      " [-0.95  0.95]\n",
      " [-0.95  0.95]\n",
      " [-0.95  0.95]\n",
      " [-0.95  0.95]\n",
      " [-0.95  0.95]\n",
      " [-0.95  0.95]\n",
      " [-0.95  0.95]\n",
      " [-0.95  0.95]\n",
      " [-0.95  0.95]\n",
      " [-0.95  0.95]\n",
      " [-0.95  0.95]\n",
      " [-0.95  0.95]\n",
      " [-0.95  0.95]\n",
      " [-0.95  0.95]]\n",
      "n_sensor:[0]\n",
      "sensor_names:[]\n",
      "n_site:[0]\n",
      "site_names:[]\n",
      "Done.\n"
     ]
    }
   ],
   "source": [
    "xml_path = '../asset/atlas_v5/scene_atlas.xml'\n",
    "env = MuJoCoParserClass(name='Common Rig',rel_xml_path=xml_path,VERBOSE=True)\n",
    "# Modify the color of body exluding 'world'\n",
    "for body_name in env.body_names:\n",
    "    if body_name in ['world']: continue\n",
    "    body_idx = env.body_names.index(body_name)\n",
    "    geom_idxs = [idx for idx,val in enumerate(env.model.geom_bodyid) if val==body_idx]\n",
    "    for geom_idx in geom_idxs:\n",
    "        env.model.geom(geom_idx).rgba = [0.3,0.3,0.5,0.5]\n",
    "print (\"Done.\")"
   ]
  },
  {
   "cell_type": "code",
   "execution_count": 21,
   "id": "d4f75761",
   "metadata": {},
   "outputs": [
    {
     "name": "stdout",
     "output_type": "stream",
     "text": [
      "['world', 'pelvis', 'ltorso', 'mtorso', 'utorso', 'head', 'l_clav', 'l_scap', 'l_uarm', 'l_larm', 'l_ufarm', 'l_lfarm', 'l_hand', 'r_clav', 'r_scap', 'r_uarm', 'r_larm', 'r_ufarm', 'r_lfarm', 'r_hand', 'l_uglut', 'l_lglut', 'l_uleg', 'l_lleg', 'l_talus', 'l_foot', 'r_uglut', 'r_lglut', 'r_uleg', 'r_lleg', 'r_talus', 'r_foot']\n",
      "l_foot\n"
     ]
    }
   ],
   "source": [
    "# env.n_rev_joint\n",
    "# env.open_interactive_viewer()\n",
    "print(env.body_names)\n",
    "# print(env.data.body(env.model.geom(5).bodyid))\n",
    "# print(env.data.body(env.model.geom(121).bodyid))\n",
    "# print(env.data.body(env.model.geom(121).bodyid))"
   ]
  },
  {
   "cell_type": "code",
   "execution_count": 4,
   "id": "90d21d04",
   "metadata": {},
   "outputs": [],
   "source": [
    "# Set which joints to control\n",
    "rev_joint_names = env.rev_joint_names # <==\n",
    "joint_idxs_fwd = env.get_idxs_fwd(joint_names=rev_joint_names)\n",
    "joint_idxs_jac = env.get_idxs_jac(joint_names=rev_joint_names)\n",
    "q_rev_init = env.get_qpos_joints(rev_joint_names)\n",
    "n_rev_joint = len(rev_joint_names)"
   ]
  },
  {
   "cell_type": "markdown",
   "id": "0346dc57",
   "metadata": {},
   "source": [
    "### Load motion and playback"
   ]
  },
  {
   "cell_type": "code",
   "execution_count": 5,
   "id": "d436ff50",
   "metadata": {},
   "outputs": [],
   "source": [
    "motion_file_path = os.path.join(\"../asset/atlas_v5/motion/atlas_cmu_walk_optimized_recon.npy\")\n",
    "device='cpu'"
   ]
  },
  {
   "cell_type": "code",
   "execution_count": 6,
   "id": "c618f7cf",
   "metadata": {},
   "outputs": [
    {
     "name": "stderr",
     "output_type": "stream",
     "text": [
      "/Users/yoonbyung/opt/anaconda3/envs/snapbot/lib/python3.8/site-packages/tqdm/auto.py:21: TqdmWarning: IProgress not found. Please update jupyter and ipywidgets. See https://ipywidgets.readthedocs.io/en/stable/user_install.html\n",
      "  from .autonotebook import tqdm as notebook_tqdm\n",
      "2024-03-27 15:17:55,829\tINFO util.py:159 -- Missing packages: ['ipywidgets']. Run `pip install -U ipywidgets`, then restart the notebook server for rich notebook output.\n",
      "2024-03-27 15:17:55,926 - INFO - logger - logger initialized\n",
      "<unknown>:3: DeprecationWarning: invalid escape sequence \\*\n"
     ]
    },
    {
     "name": "stdout",
     "output_type": "stream",
     "text": [
      "Error: FBX library failed to load - importing FBX data will not succeed. Message: No module named 'fbx'\n",
      "FBX tools must be installed from https://help.autodesk.com/view/FBX/2020/ENU/?guid=FBX_Developer_Help_scripting_with_python_fbx_installing_python_fbx_html\n",
      "Loading 1/1 motion files: ../asset/atlas_v5/motion/atlas_cmu_walk_optimized_recon.npy\n",
      "Loaded 1 motions with a total length of 2.475s.\n"
     ]
    }
   ],
   "source": [
    "# from amp.utils.motion_lib import MotionLib\n",
    "from amp.tasks.common_rig_amp import MotionLib\n",
    "KEY_BODY_NAMES = [\"r_foot\", \"l_foot\", \"r_hand\", \"l_hand\"]\n",
    "key_body_ids = np.array(env.get_body_ids(KEY_BODY_NAMES))\n",
    "motion_lib = MotionLib(motion_file=motion_file_path,\n",
    "                       num_dofs=env.n_rev_joint,\n",
    "                       key_body_ids=key_body_ids,\n",
    "                       device=device)\n",
    "motion_lib.get_motion(0)\n",
    "qs = motion_lib.get_motion(0).qpos\n",
    "p_roots = motion_lib.get_motion(0).root_translation\n",
    "# p_roots += 0.05\n",
    "quat_roots = motion_lib.get_motion(0).global_root_rotation\n",
    "L = qs.shape[0]"
   ]
  },
  {
   "cell_type": "code",
   "execution_count": 7,
   "id": "a520945e",
   "metadata": {},
   "outputs": [
    {
     "name": "stdout",
     "output_type": "stream",
     "text": [
      "Pressed ESC\n",
      "Quitting.\n",
      "Done.\n"
     ]
    },
    {
     "name": "stderr",
     "output_type": "stream",
     "text": [
      "2024-03-27 15:17:59.987 python[39107:172897] TSM AdjustCapsLockLEDForKeyTransitionHandling - _ISSetPhysicalKeyboardCapsLockLED Inhibit\n"
     ]
    }
   ],
   "source": [
    "# Initialize MuJoCo viewer\n",
    "env.init_viewer(viewer_title='Atlas',viewer_width=1200,viewer_height=800,\n",
    "                viewer_hide_menus=True)\n",
    "env.update_viewer(azimuth=152,distance=3.0,elevation=-30,lookat=[0.02,-0.03,0.8])\n",
    "env.reset()\n",
    "tick = 0\n",
    "\n",
    "while env.is_viewer_alive():\n",
    "    root_pos, root_rot, dof_pos, root_vel, root_ang_vel, dof_vel, key_pos = motion_lib.get_motion_state([0], env.tick * env.dt)\n",
    "    # Update \n",
    "    quat_root = quat_roots[tick,:] # [4] quaternion\n",
    "    if tick==(L-1): tick = 0\n",
    "    else: tick = tick + 1\n",
    "    env.set_p_root(root_name='pelvis',p=root_pos)\n",
    "    env.set_quat_root(root_name='pelvis',quat=root_rot[:,[3,0,1,2]])\n",
    "    env.forward(q=dof_pos,joint_idxs=joint_idxs_fwd)\n",
    "    \n",
    "    if env.loop_every(tick_every=1):\n",
    "        # Plot world frame\n",
    "        env.plot_T(p=np.zeros(3),R=np.eye(3,3),\n",
    "                   PLOT_AXIS=True,axis_len=0.5,axis_width=0.005)\n",
    "        env.plot_T(p=np.array([0,0,0.5]),R=np.eye(3,3),\n",
    "                   PLOT_AXIS=False,label=\"tick:[%d]\"%(tick))\n",
    "        # Plot foot\n",
    "        env.plot_geom_T(geom_name='r_foot',axis_len=0.3)\n",
    "        env.plot_geom_T(geom_name='l_foot',axis_len=0.3)\n",
    "        # Plot revolute joints with arrow\n",
    "        # env.plot_joint_axis(axis_len=0.1,axis_r=0.01)    \n",
    "        # Plot body\n",
    "        \n",
    "        for pos in key_pos[0]:\n",
    "            env.plot_T(p=pos.numpy(), R=np.eye(3,3),\n",
    "                    PLOT_AXIS=True,axis_len=0.1, axis_width=0.005)\n",
    "        # r_ = motion_lib.get_motion(0).global_rotation\n",
    "        # t_ = motion_lib.get_motion(0).xpos\n",
    "        # for i in range(env.n_body-1):\n",
    "        #     env.plot_T(p=t_[tick, i], R=quat2r(r_[tick, i]),\n",
    "        #             PLOT_AXIS=True,axis_len=0.1, axis_width=0.005)\n",
    "        env.render()\n",
    "        \n",
    "# Close MuJoCo viewer\n",
    "env.close_viewer()\n",
    "print (\"Done.\")"
   ]
  },
  {
   "cell_type": "code",
   "execution_count": 8,
   "id": "8d46d0ea",
   "metadata": {},
   "outputs": [
    {
     "data": {
      "text/plain": [
       "array([ 0.96, -1.56,  0.81], dtype=float32)"
      ]
     },
     "execution_count": 8,
     "metadata": {},
     "output_type": "execute_result"
    }
   ],
   "source": [
    "pos.numpy()"
   ]
  },
  {
   "cell_type": "markdown",
   "id": "80fd96f3",
   "metadata": {},
   "source": [
    "### First, get the sequence of two feet pose"
   ]
  },
  {
   "cell_type": "code",
   "execution_count": 9,
   "id": "da222535",
   "metadata": {},
   "outputs": [
    {
     "ename": "NameError",
     "evalue": "name 'sample_qs' is not defined",
     "output_type": "error",
     "traceback": [
      "\u001b[0;31m---------------------------------------------------------------------------\u001b[0m",
      "\u001b[0;31mNameError\u001b[0m                                 Traceback (most recent call last)",
      "Cell \u001b[0;32mIn[9], line 4\u001b[0m\n\u001b[1;32m      2\u001b[0m p_lfoot_traj \u001b[38;5;241m=\u001b[39m np\u001b[38;5;241m.\u001b[39mzeros((L,\u001b[38;5;241m3\u001b[39m))\n\u001b[1;32m      3\u001b[0m \u001b[38;5;28;01mfor\u001b[39;00m tick \u001b[38;5;129;01min\u001b[39;00m \u001b[38;5;28mrange\u001b[39m(L):\n\u001b[0;32m----> 4\u001b[0m     q \u001b[38;5;241m=\u001b[39m \u001b[43msample_qs\u001b[49m[\u001b[38;5;241m0\u001b[39m,tick,:] \u001b[38;5;66;03m# [35]\u001b[39;00m\n\u001b[1;32m      5\u001b[0m     p_root \u001b[38;5;241m=\u001b[39m sample_p_roots[\u001b[38;5;241m0\u001b[39m,tick,:] \u001b[38;5;66;03m# [3]\u001b[39;00m\n\u001b[1;32m      6\u001b[0m     env\u001b[38;5;241m.\u001b[39mset_p_root(root_name\u001b[38;5;241m=\u001b[39m\u001b[38;5;124m'\u001b[39m\u001b[38;5;124mbase\u001b[39m\u001b[38;5;124m'\u001b[39m,p\u001b[38;5;241m=\u001b[39mp_root)\n",
      "\u001b[0;31mNameError\u001b[0m: name 'sample_qs' is not defined"
     ]
    }
   ],
   "source": [
    "p_rfoot_traj = np.zeros((L,3))\n",
    "p_lfoot_traj = np.zeros((L,3))\n",
    "for tick in range(L):\n",
    "    q = sample_qs[0,tick,:] # [35]\n",
    "    p_root = sample_p_roots[0,tick,:] # [3]\n",
    "    env.set_p_root(root_name='base',p=p_root)\n",
    "    env.forward(q=q,joint_idxs=joint_idxs_fwd)\n",
    "    # Append\n",
    "    p_rfoot_traj[tick,:] = env.get_p_geom(geom_name='rfoot')\n",
    "    p_lfoot_traj[tick,:] = env.get_p_geom(geom_name='lfoot')"
   ]
  },
  {
   "cell_type": "code",
   "execution_count": null,
   "id": "2f155cfa",
   "metadata": {},
   "outputs": [
    {
     "ename": "IndexError",
     "evalue": "too many indices for array: array is 2-dimensional, but 3 were indexed",
     "output_type": "error",
     "traceback": [
      "\u001b[0;31m---------------------------------------------------------------------------\u001b[0m",
      "\u001b[0;31mIndexError\u001b[0m                                Traceback (most recent call last)",
      "\u001b[1;32m/Users/yoonbyung/Dev/yet-another-mujoco-tutorial-v3/code/demo_common_rig_04_motion.ipynb 셀 10\u001b[0m in \u001b[0;36m<cell line: 9>\u001b[0;34m()\u001b[0m\n\u001b[1;32m      <a href='vscode-notebook-cell:/Users/yoonbyung/Dev/yet-another-mujoco-tutorial-v3/code/demo_common_rig_04_motion.ipynb#X12sZmlsZQ%3D%3D?line=7'>8</a>\u001b[0m p_lfoot_centered_traj \u001b[39m=\u001b[39m np\u001b[39m.\u001b[39mzeros((L,\u001b[39m3\u001b[39m))\n\u001b[1;32m      <a href='vscode-notebook-cell:/Users/yoonbyung/Dev/yet-another-mujoco-tutorial-v3/code/demo_common_rig_04_motion.ipynb#X12sZmlsZQ%3D%3D?line=8'>9</a>\u001b[0m \u001b[39mwhile\u001b[39;00m env\u001b[39m.\u001b[39mis_viewer_alive():\n\u001b[1;32m     <a href='vscode-notebook-cell:/Users/yoonbyung/Dev/yet-another-mujoco-tutorial-v3/code/demo_common_rig_04_motion.ipynb#X12sZmlsZQ%3D%3D?line=9'>10</a>\u001b[0m     \n\u001b[1;32m     <a href='vscode-notebook-cell:/Users/yoonbyung/Dev/yet-another-mujoco-tutorial-v3/code/demo_common_rig_04_motion.ipynb#X12sZmlsZQ%3D%3D?line=10'>11</a>\u001b[0m     \u001b[39m# Update\u001b[39;00m\n\u001b[0;32m---> <a href='vscode-notebook-cell:/Users/yoonbyung/Dev/yet-another-mujoco-tutorial-v3/code/demo_common_rig_04_motion.ipynb#X12sZmlsZQ%3D%3D?line=11'>12</a>\u001b[0m     q \u001b[39m=\u001b[39m sample_qs[\u001b[39m0\u001b[39;49m,tick,:] \u001b[39m# [35]\u001b[39;00m\n\u001b[1;32m     <a href='vscode-notebook-cell:/Users/yoonbyung/Dev/yet-another-mujoco-tutorial-v3/code/demo_common_rig_04_motion.ipynb#X12sZmlsZQ%3D%3D?line=12'>13</a>\u001b[0m     p_root \u001b[39m=\u001b[39m sample_p_roots[\u001b[39m0\u001b[39m,tick,:] \u001b[39m# [3]\u001b[39;00m\n\u001b[1;32m     <a href='vscode-notebook-cell:/Users/yoonbyung/Dev/yet-another-mujoco-tutorial-v3/code/demo_common_rig_04_motion.ipynb#X12sZmlsZQ%3D%3D?line=13'>14</a>\u001b[0m     p_cfoot \u001b[39m=\u001b[39m \u001b[39m0.5\u001b[39m\u001b[39m*\u001b[39m(p_rfoot_traj[tick,:]\u001b[39m+\u001b[39mp_lfoot_traj[tick,:])\n",
      "\u001b[0;31mIndexError\u001b[0m: too many indices for array: array is 2-dimensional, but 3 were indexed"
     ]
    }
   ],
   "source": [
    "# Initialize MuJoCo viewer\n",
    "env.init_viewer(viewer_title='Common Rig',viewer_width=1200,viewer_height=800,\n",
    "                viewer_hide_menus=True)\n",
    "env.update_viewer(azimuth=152,distance=3.0,elevation=-30,lookat=[0.02,-0.03,0.8])\n",
    "env.reset()\n",
    "tick = 0\n",
    "p_rfoot_centered_traj = np.zeros((L,3))\n",
    "p_lfoot_centered_traj = np.zeros((L,3))\n",
    "while env.is_viewer_alive():\n",
    "    \n",
    "    # Update\n",
    "    q = sample_qs[0,tick,:] # [35]\n",
    "    p_root = sample_p_roots[0,tick,:] # [3]\n",
    "    p_cfoot = 0.5*(p_rfoot_traj[tick,:]+p_lfoot_traj[tick,:])\n",
    "    env.set_p_root(root_name='base',p=p_root-p_cfoot+np.array([0,0,0.02]))\n",
    "    env.forward(q=q,joint_idxs=joint_idxs_fwd)\n",
    "    \n",
    "    # Append translated foot traj\n",
    "    p_rfoot_centered_traj[tick,:] = env.get_p_geom(geom_name='rfoot')\n",
    "    p_lfoot_centered_traj[tick,:] = env.get_p_geom(geom_name='lfoot')\n",
    "    \n",
    "    # Render\n",
    "    if env.loop_every(tick_every=1):\n",
    "        # Plot world frame\n",
    "        env.plot_T(p=np.zeros(3),R=np.eye(3,3),\n",
    "                   PLOT_AXIS=True,axis_len=0.5,axis_width=0.005)\n",
    "        env.plot_T(p=np.array([0,0,0.5]),R=np.eye(3,3),\n",
    "                   PLOT_AXIS=False,label=\"tick:[%d]\"%(tick))\n",
    "        # Plot foot\n",
    "        env.plot_geom_T(geom_name='rfoot',axis_len=0.3)\n",
    "        env.plot_geom_T(geom_name='lfoot',axis_len=0.3)\n",
    "        # Plot revolute joints with arrow\n",
    "        env.plot_joint_axis(axis_len=0.1,axis_r=0.01)    \n",
    "        env.render()\n",
    "        \n",
    "    # Increase tick\n",
    "    if tick==(L-1): tick = 0\n",
    "    else: tick = tick + 1\n",
    "# Close MuJoCo viewer\n",
    "env.close_viewer()\n",
    "print (\"Done.\")"
   ]
  },
  {
   "cell_type": "markdown",
   "id": "6e0c865b",
   "metadata": {},
   "source": [
    "### Solve IK for two feet"
   ]
  },
  {
   "cell_type": "code",
   "execution_count": null,
   "id": "a7aeb8d7",
   "metadata": {},
   "outputs": [
    {
     "name": "stdout",
     "output_type": "stream",
     "text": [
      "Done.\n"
     ]
    }
   ],
   "source": [
    "p_trgt_rfoot = np.average(p_rfoot_centered_traj,axis=0)\n",
    "p_trgt_lfoot = np.average(p_lfoot_centered_traj,axis=0)\n",
    "R_trgt_rfoot = rpy2r(np.radians([0,0,0]))\n",
    "R_trgt_lfoot = rpy2r(np.radians([0,0,0]))\n",
    "# Initialize MuJoCo viewer\n",
    "env.init_viewer(viewer_title='Common Rig',viewer_width=1200,viewer_height=800,\n",
    "                viewer_hide_menus=True)\n",
    "env.update_viewer(azimuth=152,distance=3.0,elevation=-30,lookat=[0.02,-0.03,0.8])\n",
    "env.reset()\n",
    "while env.is_viewer_alive():\n",
    "    # Update\n",
    "    q = sample_qs[0,tick,:] # [35]\n",
    "    p_root = sample_p_roots[0,tick,:] # [3]\n",
    "    p_cfoot = 0.5*(p_rfoot_traj[tick,:]+p_lfoot_traj[tick,:])\n",
    "    env.set_p_root(root_name='base',p=p_root-p_cfoot+np.array([0,0,0.02]))\n",
    "    env.forward(q=q,joint_idxs=joint_idxs_fwd)\n",
    "    \n",
    "    # Solve IK\n",
    "    ik_geom_names = ['rfoot','lfoot']\n",
    "    ik_p_trgts = [p_trgt_rfoot,p_trgt_lfoot]\n",
    "    ik_R_trgts = [R_trgt_rfoot,R_trgt_lfoot]\n",
    "    err_traj = np.zeros(30)\n",
    "    for ik_tick in range(30):\n",
    "        J_list,ik_err_list = [],[]\n",
    "        for ik_idx,ik_geom_name in enumerate(ik_geom_names):\n",
    "            ik_p_trgt = ik_p_trgts[ik_idx]\n",
    "            ik_R_trgt = ik_R_trgts[ik_idx]\n",
    "            J,ik_err = env.get_ik_ingredients_geom(\n",
    "                geom_name=ik_geom_name,p_trgt=ik_p_trgt,R_trgt=ik_R_trgt,\n",
    "                IK_P=True,IK_R=True)\n",
    "            J_list.append(J)\n",
    "            ik_err_list.append(ik_err)\n",
    "        J_stack      = np.vstack(J_list)\n",
    "        ik_err_stack = np.hstack(ik_err_list)\n",
    "        err_traj[ik_tick] = np.max(np.abs(ik_err_stack))\n",
    "        dq = env.damped_ls(J_stack,ik_err_stack,stepsize=1,eps=1e-2,th=np.radians(1.0))\n",
    "        q = q + dq[joint_idxs_jac]\n",
    "        env.forward(q=q,joint_idxs=joint_idxs_fwd)\n",
    "        \n",
    "    # Render\n",
    "    if env.loop_every(tick_every=1):\n",
    "        # Plot world frame\n",
    "        env.plot_T(p=np.zeros(3),R=np.eye(3,3),\n",
    "                   PLOT_AXIS=True,axis_len=0.5,axis_width=0.005)\n",
    "        env.plot_T(p=np.array([0,0,0.5]),R=np.eye(3,3),\n",
    "                   PLOT_AXIS=False,label=\"tick:[%d]\"%(tick))\n",
    "        # Plot foot\n",
    "        env.plot_geom_T(geom_name='rfoot',axis_len=0.3)\n",
    "        env.plot_geom_T(geom_name='lfoot',axis_len=0.3)\n",
    "        # Plot revolute joints with arrow\n",
    "        env.plot_joint_axis(axis_len=0.1,axis_r=0.01)    \n",
    "        env.render()\n",
    "        \n",
    "    # Increase tick\n",
    "    if tick==(L-1): tick = 0\n",
    "    else: tick = tick + 1\n",
    "# Close MuJoCo viewer\n",
    "env.close_viewer()\n",
    "print (\"Done.\")"
   ]
  },
  {
   "cell_type": "code",
   "execution_count": null,
   "id": "04c7fc86",
   "metadata": {},
   "outputs": [],
   "source": []
  }
 ],
 "metadata": {
  "kernelspec": {
   "display_name": "Python 3 (ipykernel)",
   "language": "python",
   "name": "python3"
  },
  "language_info": {
   "codemirror_mode": {
    "name": "ipython",
    "version": 3
   },
   "file_extension": ".py",
   "mimetype": "text/x-python",
   "name": "python",
   "nbconvert_exporter": "python",
   "pygments_lexer": "ipython3",
   "version": "3.8.16"
  }
 },
 "nbformat": 4,
 "nbformat_minor": 5
}
