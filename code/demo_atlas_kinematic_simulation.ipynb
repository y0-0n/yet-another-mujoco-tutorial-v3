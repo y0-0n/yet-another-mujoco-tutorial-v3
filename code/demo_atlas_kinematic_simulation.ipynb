{
 "cells": [
  {
   "cell_type": "markdown",
   "id": "a29fe503",
   "metadata": {},
   "source": [
    "### Simple motion play of `Atlas` "
   ]
  },
  {
   "cell_type": "code",
   "execution_count": null,
   "id": "318c9b2f",
   "metadata": {},
   "outputs": [],
   "source": [
    "import pickle, os\n",
    "import mujoco\n",
    "import numpy as np\n",
    "import matplotlib.pyplot as plt\n",
    "from mujoco_parser import MuJoCoParserClass\n",
    "from util import rpy2r, quat2r\n",
    "np.set_printoptions(precision=2,suppress=True,linewidth=100)\n",
    "plt.rc('xtick',labelsize=6); plt.rc('ytick',labelsize=6)\n",
    "%config InlineBackend.figure_format = 'retina'\n",
    "%matplotlib inline\n",
    "print (\"MuJoCo version:[%s]\"%(mujoco.__version__))"
   ]
  },
  {
   "cell_type": "markdown",
   "id": "be60ebf9",
   "metadata": {},
   "source": [
    "### Parse `scene_atlas.xml`"
   ]
  },
  {
   "cell_type": "code",
   "execution_count": null,
   "id": "4893b136",
   "metadata": {},
   "outputs": [],
   "source": [
    "xml_path = '../asset/atlas_v5/scene_atlas.xml'\n",
    "env = MuJoCoParserClass(name='Common Rig',rel_xml_path=xml_path,VERBOSE=True)\n",
    "# Modify the color of body exluding 'world'\n",
    "for body_name in env.body_names:\n",
    "    if body_name in ['world']: continue\n",
    "    body_idx = env.body_names.index(body_name)\n",
    "    geom_idxs = [idx for idx,val in enumerate(env.model.geom_bodyid) if val==body_idx]\n",
    "    for geom_idx in geom_idxs:\n",
    "        env.model.geom(geom_idx).rgba = [0.3,0.3,0.5,0.5]\n",
    "print (\"Done.\")"
   ]
  },
  {
   "cell_type": "code",
   "execution_count": null,
   "id": "d4f75761",
   "metadata": {},
   "outputs": [],
   "source": [
    "# env.n_rev_joint\n",
    "# env.open_interactive_viewer()\n",
    "print(env.body_names)\n",
    "# print(env.data.body(env.model.geom(5).bodyid))\n",
    "# print(env.data.body(env.model.geom(121).bodyid))\n",
    "# print(env.data.body(env.model.geom(121).bodyid))"
   ]
  },
  {
   "cell_type": "code",
   "execution_count": null,
   "id": "90d21d04",
   "metadata": {},
   "outputs": [],
   "source": [
    "# Set which joints to control\n",
    "rev_joint_names = env.rev_joint_names # <==\n",
    "joint_idxs_fwd = env.get_idxs_fwd(joint_names=rev_joint_names)\n",
    "joint_idxs_jac = env.get_idxs_jac(joint_names=rev_joint_names)\n",
    "q_rev_init = env.get_qpos_joints(rev_joint_names)\n",
    "n_rev_joint = len(rev_joint_names)"
   ]
  },
  {
   "cell_type": "markdown",
   "id": "0346dc57",
   "metadata": {},
   "source": [
    "### Load motion and playback"
   ]
  },
  {
   "cell_type": "code",
   "execution_count": null,
   "id": "d436ff50",
   "metadata": {},
   "outputs": [],
   "source": [
    "motion_file_path = os.path.join(\"../asset/atlas_v5/motion/atlas_cmu_walk_optimized_recon_v2.npy\")\n",
    "device='cpu'"
   ]
  },
  {
   "cell_type": "code",
   "execution_count": null,
   "id": "c618f7cf",
   "metadata": {},
   "outputs": [],
   "source": [
    "# from amp.utils.motion_lib import MotionLib\n",
    "from amp.tasks.common_rig_amp import MotionLib\n",
    "KEY_BODY_NAMES = [\"r_foot\", \"l_foot\", \"r_hand\", \"l_hand\"]\n",
    "key_body_ids = np.array(env.get_body_ids(KEY_BODY_NAMES))\n",
    "motion_lib = MotionLib(motion_file=motion_file_path,\n",
    "                       num_dofs=env.n_rev_joint,\n",
    "                       key_body_ids=key_body_ids,\n",
    "                       device=device)\n",
    "motion_lib.get_motion(0)\n",
    "qs = motion_lib.get_motion(0).qpos\n",
    "p_roots = motion_lib.get_motion(0).root_translation\n",
    "# p_roots += 0.05\n",
    "quat_roots = motion_lib.get_motion(0).global_root_rotation\n",
    "L = qs.shape[0]"
   ]
  },
  {
   "cell_type": "code",
   "execution_count": null,
   "id": "a520945e",
   "metadata": {},
   "outputs": [],
   "source": [
    "# Initialize MuJoCo viewer\n",
    "env.init_viewer(viewer_title='Atlas',viewer_width=1200,viewer_height=800,\n",
    "                viewer_hide_menus=True)\n",
    "env.update_viewer(azimuth=152,distance=3.0,elevation=-30,lookat=[0.02,-0.03,0.8])\n",
    "env.reset()\n",
    "tick = 0\n",
    "\n",
    "while env.is_viewer_alive():\n",
    "    root_pos, root_rot, dof_pos, root_vel, root_ang_vel, dof_vel, key_pos = motion_lib.get_motion_state([0], env.tick * env.dt)\n",
    "    # Update \n",
    "    quat_root = quat_roots[tick,:] # [4] quaternion\n",
    "    if tick==(L-1): tick = 0\n",
    "    else: tick = tick + 1\n",
    "    env.set_p_root(root_name='pelvis',p=root_pos)\n",
    "    env.set_quat_root(root_name='pelvis',quat=root_rot[:,[3,0,1,2]])\n",
    "    env.forward(q=dof_pos,joint_idxs=joint_idxs_fwd)\n",
    "    \n",
    "    if env.loop_every(tick_every=1):\n",
    "        # Plot world frame\n",
    "        env.plot_T(p=np.zeros(3),R=np.eye(3,3),\n",
    "                   PLOT_AXIS=True,axis_len=0.5,axis_width=0.005)\n",
    "        env.plot_T(p=np.array([0,0,0.5]),R=np.eye(3,3),\n",
    "                   PLOT_AXIS=False,label=\"tick:[%d]\"%(tick))\n",
    "        # Plot foot\n",
    "        env.plot_geom_T(geom_name='r_foot',axis_len=0.3)\n",
    "        env.plot_geom_T(geom_name='l_foot',axis_len=0.3)\n",
    "        # Plot revolute joints with arrow\n",
    "        # env.plot_joint_axis(axis_len=0.1,axis_r=0.01)    \n",
    "        # Plot body\n",
    "        \n",
    "        for pos in key_pos[0]:\n",
    "            env.plot_T(p=pos.numpy(), R=np.eye(3,3),\n",
    "                    PLOT_AXIS=True,axis_len=0.1, axis_width=0.005)\n",
    "        # r_ = motion_lib.get_motion(0).global_rotation\n",
    "        # t_ = motion_lib.get_motion(0).xpos\n",
    "        # for i in range(env.n_body-1):\n",
    "        #     env.plot_T(p=t_[tick, i], R=quat2r(r_[tick, i]),\n",
    "        #             PLOT_AXIS=True,axis_len=0.1, axis_width=0.005)\n",
    "        env.render()\n",
    "        \n",
    "# Close MuJoCo viewer\n",
    "env.close_viewer()\n",
    "print (\"Done.\")"
   ]
  },
  {
   "cell_type": "markdown",
   "id": "80fd96f3",
   "metadata": {},
   "source": [
    "### First, get the sequence of two feet pose"
   ]
  },
  {
   "cell_type": "code",
   "execution_count": null,
   "id": "da222535",
   "metadata": {},
   "outputs": [],
   "source": [
    "p_rfoot_traj = np.zeros((L,3))\n",
    "p_lfoot_traj = np.zeros((L,3))\n",
    "for tick in range(L):\n",
    "    q = sample_qs[0,tick,:] # [35]\n",
    "    p_root = sample_p_roots[0,tick,:] # [3]\n",
    "    env.set_p_root(root_name='base',p=p_root)\n",
    "    env.forward(q=q,joint_idxs=joint_idxs_fwd)\n",
    "    # Append\n",
    "    p_rfoot_traj[tick,:] = env.get_p_geom(geom_name='rfoot')\n",
    "    p_lfoot_traj[tick,:] = env.get_p_geom(geom_name='lfoot')"
   ]
  },
  {
   "cell_type": "code",
   "execution_count": null,
   "id": "2f155cfa",
   "metadata": {},
   "outputs": [],
   "source": [
    "# Initialize MuJoCo viewer\n",
    "env.init_viewer(viewer_title='Common Rig',viewer_width=1200,viewer_height=800,\n",
    "                viewer_hide_menus=True)\n",
    "env.update_viewer(azimuth=152,distance=3.0,elevation=-30,lookat=[0.02,-0.03,0.8])\n",
    "env.reset()\n",
    "tick = 0\n",
    "p_rfoot_centered_traj = np.zeros((L,3))\n",
    "p_lfoot_centered_traj = np.zeros((L,3))\n",
    "while env.is_viewer_alive():\n",
    "    \n",
    "    # Update\n",
    "    q = sample_qs[0,tick,:] # [35]\n",
    "    p_root = sample_p_roots[0,tick,:] # [3]\n",
    "    p_cfoot = 0.5*(p_rfoot_traj[tick,:]+p_lfoot_traj[tick,:])\n",
    "    env.set_p_root(root_name='base',p=p_root-p_cfoot+np.array([0,0,0.02]))\n",
    "    env.forward(q=q,joint_idxs=joint_idxs_fwd)\n",
    "    \n",
    "    # Append translated foot traj\n",
    "    p_rfoot_centered_traj[tick,:] = env.get_p_geom(geom_name='rfoot')\n",
    "    p_lfoot_centered_traj[tick,:] = env.get_p_geom(geom_name='lfoot')\n",
    "    \n",
    "    # Render\n",
    "    if env.loop_every(tick_every=1):\n",
    "        # Plot world frame\n",
    "        env.plot_T(p=np.zeros(3),R=np.eye(3,3),\n",
    "                   PLOT_AXIS=True,axis_len=0.5,axis_width=0.005)\n",
    "        env.plot_T(p=np.array([0,0,0.5]),R=np.eye(3,3),\n",
    "                   PLOT_AXIS=False,label=\"tick:[%d]\"%(tick))\n",
    "        # Plot foot\n",
    "        env.plot_geom_T(geom_name='rfoot',axis_len=0.3)\n",
    "        env.plot_geom_T(geom_name='lfoot',axis_len=0.3)\n",
    "        # Plot revolute joints with arrow\n",
    "        env.plot_joint_axis(axis_len=0.1,axis_r=0.01)    \n",
    "        env.render()\n",
    "        \n",
    "    # Increase tick\n",
    "    if tick==(L-1): tick = 0\n",
    "    else: tick = tick + 1\n",
    "# Close MuJoCo viewer\n",
    "env.close_viewer()\n",
    "print (\"Done.\")"
   ]
  },
  {
   "cell_type": "markdown",
   "id": "6e0c865b",
   "metadata": {},
   "source": [
    "### Solve IK for two feet"
   ]
  },
  {
   "cell_type": "code",
   "execution_count": null,
   "id": "a7aeb8d7",
   "metadata": {},
   "outputs": [],
   "source": [
    "p_trgt_rfoot = np.average(p_rfoot_centered_traj,axis=0)\n",
    "p_trgt_lfoot = np.average(p_lfoot_centered_traj,axis=0)\n",
    "R_trgt_rfoot = rpy2r(np.radians([0,0,0]))\n",
    "R_trgt_lfoot = rpy2r(np.radians([0,0,0]))\n",
    "# Initialize MuJoCo viewer\n",
    "env.init_viewer(viewer_title='Common Rig',viewer_width=1200,viewer_height=800,\n",
    "                viewer_hide_menus=True)\n",
    "env.update_viewer(azimuth=152,distance=3.0,elevation=-30,lookat=[0.02,-0.03,0.8])\n",
    "env.reset()\n",
    "while env.is_viewer_alive():\n",
    "    # Update\n",
    "    q = sample_qs[0,tick,:] # [35]\n",
    "    p_root = sample_p_roots[0,tick,:] # [3]\n",
    "    p_cfoot = 0.5*(p_rfoot_traj[tick,:]+p_lfoot_traj[tick,:])\n",
    "    env.set_p_root(root_name='base',p=p_root-p_cfoot+np.array([0,0,0.02]))\n",
    "    env.forward(q=q,joint_idxs=joint_idxs_fwd)\n",
    "    \n",
    "    # Solve IK\n",
    "    ik_geom_names = ['rfoot','lfoot']\n",
    "    ik_p_trgts = [p_trgt_rfoot,p_trgt_lfoot]\n",
    "    ik_R_trgts = [R_trgt_rfoot,R_trgt_lfoot]\n",
    "    err_traj = np.zeros(30)\n",
    "    for ik_tick in range(30):\n",
    "        J_list,ik_err_list = [],[]\n",
    "        for ik_idx,ik_geom_name in enumerate(ik_geom_names):\n",
    "            ik_p_trgt = ik_p_trgts[ik_idx]\n",
    "            ik_R_trgt = ik_R_trgts[ik_idx]\n",
    "            J,ik_err = env.get_ik_ingredients_geom(\n",
    "                geom_name=ik_geom_name,p_trgt=ik_p_trgt,R_trgt=ik_R_trgt,\n",
    "                IK_P=True,IK_R=True)\n",
    "            J_list.append(J)\n",
    "            ik_err_list.append(ik_err)\n",
    "        J_stack      = np.vstack(J_list)\n",
    "        ik_err_stack = np.hstack(ik_err_list)\n",
    "        err_traj[ik_tick] = np.max(np.abs(ik_err_stack))\n",
    "        dq = env.damped_ls(J_stack,ik_err_stack,stepsize=1,eps=1e-2,th=np.radians(1.0))\n",
    "        q = q + dq[joint_idxs_jac]\n",
    "        env.forward(q=q,joint_idxs=joint_idxs_fwd)\n",
    "        \n",
    "    # Render\n",
    "    if env.loop_every(tick_every=1):\n",
    "        # Plot world frame\n",
    "        env.plot_T(p=np.zeros(3),R=np.eye(3,3),\n",
    "                   PLOT_AXIS=True,axis_len=0.5,axis_width=0.005)\n",
    "        env.plot_T(p=np.array([0,0,0.5]),R=np.eye(3,3),\n",
    "                   PLOT_AXIS=False,label=\"tick:[%d]\"%(tick))\n",
    "        # Plot foot\n",
    "        env.plot_geom_T(geom_name='rfoot',axis_len=0.3)\n",
    "        env.plot_geom_T(geom_name='lfoot',axis_len=0.3)\n",
    "        # Plot revolute joints with arrow\n",
    "        env.plot_joint_axis(axis_len=0.1,axis_r=0.01)    \n",
    "        env.render()\n",
    "        \n",
    "    # Increase tick\n",
    "    if tick==(L-1): tick = 0\n",
    "    else: tick = tick + 1\n",
    "# Close MuJoCo viewer\n",
    "env.close_viewer()\n",
    "print (\"Done.\")"
   ]
  },
  {
   "cell_type": "code",
   "execution_count": null,
   "id": "04c7fc86",
   "metadata": {},
   "outputs": [],
   "source": []
  }
 ],
 "metadata": {
  "kernelspec": {
   "display_name": "Python 3 (ipykernel)",
   "language": "python",
   "name": "python3"
  },
  "language_info": {
   "codemirror_mode": {
    "name": "ipython",
    "version": 3
   },
   "file_extension": ".py",
   "mimetype": "text/x-python",
   "name": "python",
   "nbconvert_exporter": "python",
   "pygments_lexer": "ipython3",
   "version": "3.8.16"
  }
 },
 "nbformat": 4,
 "nbformat_minor": 5
}
