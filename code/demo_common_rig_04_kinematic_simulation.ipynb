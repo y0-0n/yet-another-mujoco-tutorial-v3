{
 "cells": [
  {
   "cell_type": "markdown",
   "id": "a29fe503",
   "metadata": {},
   "source": [
    "### Simple motion play of `Common Rig` "
   ]
  },
  {
   "cell_type": "code",
   "execution_count": 1,
   "id": "318c9b2f",
   "metadata": {},
   "outputs": [
    {
     "name": "stdout",
     "output_type": "stream",
     "text": [
      "MuJoCo version:[2.3.6]\n"
     ]
    },
    {
     "name": "stderr",
     "output_type": "stream",
     "text": [
      "<frozen importlib._bootstrap>:228: RuntimeWarning: scipy._lib.messagestream.MessageStream size changed, may indicate binary incompatibility. Expected 56 from C header, got 64 from PyObject\n"
     ]
    }
   ],
   "source": [
    "import pickle, os\n",
    "import mujoco\n",
    "import numpy as np\n",
    "import matplotlib.pyplot as plt\n",
    "from mujoco_parser import MuJoCoParserClass\n",
    "from util import rpy2r\n",
    "np.set_printoptions(precision=2,suppress=True,linewidth=100)\n",
    "plt.rc('xtick',labelsize=6); plt.rc('ytick',labelsize=6)\n",
    "%config InlineBackend.figure_format = 'retina'\n",
    "%matplotlib inline\n",
    "print (\"MuJoCo version:[%s]\"%(mujoco.__version__))"
   ]
  },
  {
   "cell_type": "markdown",
   "id": "be60ebf9",
   "metadata": {},
   "source": [
    "### Parse `scene_common_rig.xml`"
   ]
  },
  {
   "cell_type": "code",
   "execution_count": 2,
   "id": "4893b136",
   "metadata": {},
   "outputs": [
    {
     "name": "stdout",
     "output_type": "stream",
     "text": [
      "dt:[0.0050] HZ:[200]\n",
      "n_dof (=nv):[41]\n",
      "n_geom:[26]\n",
      "geom_names:['floor', 'base', 'root2spine', 'spine2neck', 'neck2rshoulder', 'neck2lshoulder', 'rshoulder2relbow', 'relbow2rwrist', 'rthumb', 'rpalm', 'lshoulder2lelbow', 'lelbow2lwrist', 'lthumb', 'lpalm', 'head', 'nose', 'base2rpelvis', 'rpelvis2rknee', 'rknee2rankle', 'rankle', 'rfoot', 'base2lpelvis', 'lpelvis2lknee', 'lknee2lankle', 'lankle', 'lfoot']\n",
      "n_body:[20]\n",
      "body_names:['world', 'base', 'torso', 'spine', 'neck', 'right_shoulder', 'right_elbow', 'right_hand', 'left_shoulder', 'left_elbow', 'left_hand', 'head', 'right_leg', 'right_pelvis', 'right_knee', 'right_ankle', 'left_leg', 'left_pelvis', 'left_knee', 'left_ankle']\n",
      "n_joint:[36]\n",
      "joint_names:['base', 'root1', 'root2', 'root3', 'spine', 'rs1', 'rs2', 'rs3', 're', 'rw1', 'rw2', 'rw3', 'ls1', 'ls2', 'ls3', 'le', 'lw1', 'lw2', 'lw3', 'head1', 'head2', 'head3', 'rp1', 'rp2', 'rp3', 'rk', 'ra1', 'ra2', 'ra3', 'lp1', 'lp2', 'lp3', 'lk', 'la1', 'la2', 'la3']\n",
      "joint_types:[0 3 3 3 3 3 3 3 3 3 3 3 3 3 3 3 3 3 3 3 3 3 3 3 3 3 3 3 3 3 3 3 3 3 3 3]\n",
      "joint_ranges:\n",
      "[[ 0.    0.  ]\n",
      " [-3.14  3.14]\n",
      " [-3.14  3.14]\n",
      " [-3.14  3.14]\n",
      " [-3.14  3.14]\n",
      " [-3.14  3.14]\n",
      " [-3.14  3.14]\n",
      " [-3.14  3.14]\n",
      " [ 0.01  2.62]\n",
      " [-3.14  3.14]\n",
      " [-3.14  3.14]\n",
      " [-3.14  3.14]\n",
      " [-3.14  3.14]\n",
      " [-3.14  3.14]\n",
      " [-3.14  3.14]\n",
      " [-2.62 -0.01]\n",
      " [-3.14  3.14]\n",
      " [-3.14  3.14]\n",
      " [-3.14  3.14]\n",
      " [-3.14  3.14]\n",
      " [-3.14  3.14]\n",
      " [-3.14  3.14]\n",
      " [-3.14  3.14]\n",
      " [-3.14  3.14]\n",
      " [-0.52  0.52]\n",
      " [ 0.02  2.09]\n",
      " [-3.14  3.14]\n",
      " [-3.14  3.14]\n",
      " [-3.14  3.14]\n",
      " [-3.14  3.14]\n",
      " [-3.14  3.14]\n",
      " [-3.14  3.14]\n",
      " [ 0.02  2.09]\n",
      " [-3.14  3.14]\n",
      " [-3.14  3.14]\n",
      " [-0.52  0.52]]\n",
      "n_rev_joint:[35]\n",
      "rev_joint_idxs:[ 1  2  3  4  5  6  7  8  9 10 11 12 13 14 15 16 17 18 19 20 21 22 23 24 25 26 27 28 29 30 31 32 33\n",
      " 34 35]\n",
      "rev_joint_names:['root1', 'root2', 'root3', 'spine', 'rs1', 'rs2', 'rs3', 're', 'rw1', 'rw2', 'rw3', 'ls1', 'ls2', 'ls3', 'le', 'lw1', 'lw2', 'lw3', 'head1', 'head2', 'head3', 'rp1', 'rp2', 'rp3', 'rk', 'ra1', 'ra2', 'ra3', 'lp1', 'lp2', 'lp3', 'lk', 'la1', 'la2', 'la3']\n",
      "rev_joint_mins:[-3.14 -3.14 -3.14 -3.14 -3.14 -3.14 -3.14  0.01 -3.14 -3.14 -3.14 -3.14 -3.14 -3.14 -2.62 -3.14\n",
      " -3.14 -3.14 -3.14 -3.14 -3.14 -3.14 -3.14 -0.52  0.02 -3.14 -3.14 -3.14 -3.14 -3.14 -3.14  0.02\n",
      " -3.14 -3.14 -0.52]\n",
      "rev_joint_maxs:[ 3.14  3.14  3.14  3.14  3.14  3.14  3.14  2.62  3.14  3.14  3.14  3.14  3.14  3.14 -0.01  3.14\n",
      "  3.14  3.14  3.14  3.14  3.14  3.14  3.14  0.52  2.09  3.14  3.14  3.14  3.14  3.14  3.14  2.09\n",
      "  3.14  3.14  0.52]\n",
      "rev_joint_ranges:[6.28 6.28 6.28 6.28 6.28 6.28 6.28 2.61 6.28 6.28 6.28 6.28 6.28 6.28 2.61 6.28 6.28 6.28 6.28\n",
      " 6.28 6.28 6.28 6.28 1.05 2.08 6.28 6.28 6.28 6.28 6.28 6.28 2.08 6.28 6.28 1.05]\n",
      "n_pri_joint:[0]\n",
      "pri_joint_idxs:[]\n",
      "pri_joint_names:[]\n",
      "pri_joint_mins:[]\n",
      "pri_joint_maxs:[]\n",
      "pri_joint_ranges:[]\n",
      "n_ctrl:[35]\n",
      "ctrl_names:['root1', 'root2', 'root3', 'spine', 'rs1', 'rs2', 'rs3', 're', 'rw1', 'rw2', 'rw3', 'ls1', 'ls2', 'ls3', 'le', 'lw1', 'lw2', 'lw3', 'rp1', 'rp2', 'rp3', 'rk', 'ra1', 'ra2', 'ra3', 'lp1', 'lp2', 'lp3', 'lk', 'la1', 'la2', 'la3', 'head1', 'head2', 'head3']\n",
      "ctrl_joint_idxs:[7, 8, 9, 10, 11, 12, 13, 14, 15, 16, 17, 18, 19, 20, 21, 22, 23, 24, 28, 29, 30, 31, 32, 33, 34, 35, 36, 37, 38, 39, 40, 41, 25, 26, 27]\n",
      "ctrl_joint_names:['root1', 'root2', 'root3', 'spine', 'rs1', 'rs2', 'rs3', 're', 'rw1', 'rw2', 'rw3', 'ls1', 'ls2', 'ls3', 'le', 'lw1', 'lw2', 'lw3', 'rp1', 'rp2', 'rp3', 'rk', 'ra1', 'ra2', 'ra3', 'lp1', 'lp2', 'lp3', 'lk', 'la1', 'la2', 'la3', 'head1', 'head2', 'head3']\n",
      "ctrl_qvel_idxs:[6, 7, 8, 9, 10, 11, 12, 13, 14, 15, 16, 17, 18, 19, 20, 21, 22, 23, 27, 28, 29, 30, 31, 32, 33, 34, 35, 36, 37, 38, 39, 40, 24, 25, 26]\n",
      "ctrl_ranges:\n",
      "[[-0.4  0.4]\n",
      " [-0.4  0.4]\n",
      " [-0.4  0.4]\n",
      " [-0.4  0.4]\n",
      " [-0.4  0.4]\n",
      " [-0.4  0.4]\n",
      " [-0.4  0.4]\n",
      " [-0.4  0.4]\n",
      " [-0.4  0.4]\n",
      " [-0.4  0.4]\n",
      " [-0.4  0.4]\n",
      " [-0.4  0.4]\n",
      " [-0.4  0.4]\n",
      " [-0.4  0.4]\n",
      " [-0.4  0.4]\n",
      " [-0.4  0.4]\n",
      " [-0.4  0.4]\n",
      " [-0.4  0.4]\n",
      " [-0.4  0.4]\n",
      " [-0.4  0.4]\n",
      " [-0.4  0.4]\n",
      " [-0.4  0.4]\n",
      " [-0.4  0.4]\n",
      " [-0.4  0.4]\n",
      " [-0.4  0.4]\n",
      " [-0.4  0.4]\n",
      " [-0.4  0.4]\n",
      " [-0.4  0.4]\n",
      " [-0.4  0.4]\n",
      " [-0.4  0.4]\n",
      " [-0.4  0.4]\n",
      " [-0.4  0.4]\n",
      " [-0.4  0.4]\n",
      " [-0.4  0.4]\n",
      " [-0.4  0.4]]\n",
      "n_sensor:[0]\n",
      "sensor_names:[]\n",
      "n_site:[0]\n",
      "site_names:[]\n",
      "Done.\n"
     ]
    }
   ],
   "source": [
    "xml_path = '../asset/common_rig/scene_common_rig_v2.xml'\n",
    "env = MuJoCoParserClass(name='Common Rig',rel_xml_path=xml_path,VERBOSE=True)\n",
    "# Modify the color of body exluding 'world'\n",
    "for body_name in env.body_names:\n",
    "    if body_name in ['world']: continue\n",
    "    body_idx = env.body_names.index(body_name)\n",
    "    geom_idxs = [idx for idx,val in enumerate(env.model.geom_bodyid) if val==body_idx]\n",
    "    for geom_idx in geom_idxs:\n",
    "        env.model.geom(geom_idx).rgba = [0.3,0.3,0.5,0.5]\n",
    "print (\"Done.\")"
   ]
  },
  {
   "cell_type": "code",
   "execution_count": 3,
   "id": "90d21d04",
   "metadata": {},
   "outputs": [],
   "source": [
    "# Set which joints to control\n",
    "rev_joint_names = env.ctrl_names # <==\n",
    "joint_idxs_fwd = env.get_idxs_fwd(joint_names=rev_joint_names)\n",
    "joint_idxs_jac = env.get_idxs_jac(joint_names=rev_joint_names)\n",
    "q_rev_init = env.get_qpos_joints(rev_joint_names)\n",
    "n_rev_joint = len(rev_joint_names)"
   ]
  },
  {
   "cell_type": "markdown",
   "id": "0346dc57",
   "metadata": {},
   "source": [
    "### Load motion and playback"
   ]
  },
  {
   "cell_type": "code",
   "execution_count": 4,
   "id": "d436ff50",
   "metadata": {},
   "outputs": [],
   "source": [
    "motion_file_path = os.path.join(\"../asset/common_rig/motion/soccer_kick.npy\")\n",
    "device='cpu'"
   ]
  },
  {
   "cell_type": "code",
   "execution_count": 9,
   "id": "c618f7cf",
   "metadata": {},
   "outputs": [
    {
     "name": "stdout",
     "output_type": "stream",
     "text": [
      "Loading 1/1 motion files: ../asset/common_rig/motion/soccer_kick.npy\n",
      "[[ 0.02 -0.25 -0.06 ...  0.08  0.13 -0.3 ]\n",
      " [ 0.02 -0.25 -0.06 ...  0.07  0.14 -0.3 ]\n",
      " [ 0.02 -0.25 -0.06 ...  0.08  0.14 -0.3 ]\n",
      " ...\n",
      " [ 0.06 -0.2   0.15 ...  0.13 -0.19 -0.43]\n",
      " [ 0.06 -0.19  0.09 ...  0.13 -0.16 -0.38]\n",
      " [ 0.08 -0.19  0.03 ...  0.13 -0.12 -0.34]] [[-0.06 -0.07 -0.04 ... -0.21  0.13 -0.01]\n",
      " [-0.03 -0.   -0.06 ...  0.14 -0.01 -0.04]\n",
      " [-0.02  0.    0.08 ...  0.04 -0.03 -0.14]\n",
      " ...\n",
      " [ 0.02  0.03 -1.26 ...  0.06  0.66  0.99]\n",
      " [ 0.22  0.1  -1.1  ... -0.02  0.72  0.77]\n",
      " [ 0.22  0.1  -1.1  ... -0.02  0.72  0.77]]\n",
      "Loaded 1 motions with a total length of 6.650s.\n"
     ]
    }
   ],
   "source": [
    "from amp.utils.motion_lib import MotionLib\n",
    "motion_lib = MotionLib(motion_file=motion_file_path,\n",
    "                       num_dofs=env.n_rev_joint,\n",
    "                       key_body_ids=np.array([]),\n",
    "                       device=device)\n",
    "motion_lib.get_motion(0)\n",
    "qs = motion_lib.get_motion(0)._q_pos\n",
    "p_roots = motion_lib.get_motion(0).root_translation\n",
    "p_roots += 0.05\n",
    "quat_roots = motion_lib.get_motion(0).global_root_rotation\n",
    "L = qs.shape[0]"
   ]
  },
  {
   "cell_type": "code",
   "execution_count": 12,
   "id": "a520945e",
   "metadata": {},
   "outputs": [
    {
     "name": "stdout",
     "output_type": "stream",
     "text": [
      "Done.\n"
     ]
    }
   ],
   "source": [
    "# Initialize MuJoCo viewer\n",
    "env.init_viewer(viewer_title='Common Rig',viewer_width=1200,viewer_height=800,\n",
    "                viewer_hide_menus=True)\n",
    "env.update_viewer(azimuth=152,distance=3.0,elevation=-30,lookat=[0.02,-0.03,0.8])\n",
    "env.reset()\n",
    "tick = 0\n",
    "while env.is_viewer_alive():\n",
    "    # Update \n",
    "    q = qs[tick,:] # [35]\n",
    "    p_root = p_roots[tick,:] # [3]\n",
    "    quat_root = quat_roots[tick,:] # [4] quaternion\n",
    "    # tick = min(tick+1,L-1)\n",
    "    if tick==(L-1): tick = 0\n",
    "    else: tick = tick + 1\n",
    "    env.set_p_root(root_name='base',p=p_root)\n",
    "    env.set_quat_root(root_name='base',quat=quat_root[[3,0,1,2]])\n",
    "    env.forward(q=q,joint_idxs=joint_idxs_fwd)\n",
    "    \n",
    "    if env.loop_every(tick_every=1):\n",
    "        # Plot world frame\n",
    "        env.plot_T(p=np.zeros(3),R=np.eye(3,3),\n",
    "                   PLOT_AXIS=True,axis_len=0.5,axis_width=0.005)\n",
    "        env.plot_T(p=np.array([0,0,0.5]),R=np.eye(3,3),\n",
    "                   PLOT_AXIS=False,label=\"tick:[%d]\"%(tick))\n",
    "        # Plot foot\n",
    "        env.plot_geom_T(geom_name='rfoot',axis_len=0.3)\n",
    "        env.plot_geom_T(geom_name='lfoot',axis_len=0.3)\n",
    "        # Plot revolute joints with arrow\n",
    "        env.plot_joint_axis(axis_len=0.1,axis_r=0.01)    \n",
    "        env.render()\n",
    "# Close MuJoCo viewer\n",
    "env.close_viewer()\n",
    "print (\"Done.\")"
   ]
  },
  {
   "cell_type": "code",
   "execution_count": null,
   "id": "e158e166",
   "metadata": {},
   "outputs": [],
   "source": []
  },
  {
   "cell_type": "markdown",
   "id": "80fd96f3",
   "metadata": {},
   "source": [
    "### First, get the sequence of two feet pose"
   ]
  },
  {
   "cell_type": "code",
   "execution_count": 10,
   "id": "da222535",
   "metadata": {},
   "outputs": [
    {
     "ename": "IndexError",
     "evalue": "too many indices for array: array is 2-dimensional, but 3 were indexed",
     "output_type": "error",
     "traceback": [
      "\u001b[0;31m---------------------------------------------------------------------------\u001b[0m",
      "\u001b[0;31mIndexError\u001b[0m                                Traceback (most recent call last)",
      "\u001b[1;32m/Users/yoonbyung/Dev/yet-another-mujoco-tutorial-v3/code/demo_common_rig_04_motion.ipynb 셀 9\u001b[0m in \u001b[0;36m<cell line: 3>\u001b[0;34m()\u001b[0m\n\u001b[1;32m      <a href='vscode-notebook-cell:/Users/yoonbyung/Dev/yet-another-mujoco-tutorial-v3/code/demo_common_rig_04_motion.ipynb#X11sZmlsZQ%3D%3D?line=1'>2</a>\u001b[0m p_lfoot_traj \u001b[39m=\u001b[39m np\u001b[39m.\u001b[39mzeros((L,\u001b[39m3\u001b[39m))\n\u001b[1;32m      <a href='vscode-notebook-cell:/Users/yoonbyung/Dev/yet-another-mujoco-tutorial-v3/code/demo_common_rig_04_motion.ipynb#X11sZmlsZQ%3D%3D?line=2'>3</a>\u001b[0m \u001b[39mfor\u001b[39;00m tick \u001b[39min\u001b[39;00m \u001b[39mrange\u001b[39m(L):\n\u001b[0;32m----> <a href='vscode-notebook-cell:/Users/yoonbyung/Dev/yet-another-mujoco-tutorial-v3/code/demo_common_rig_04_motion.ipynb#X11sZmlsZQ%3D%3D?line=3'>4</a>\u001b[0m     q \u001b[39m=\u001b[39m sample_qs[\u001b[39m0\u001b[39;49m,tick,:] \u001b[39m# [35]\u001b[39;00m\n\u001b[1;32m      <a href='vscode-notebook-cell:/Users/yoonbyung/Dev/yet-another-mujoco-tutorial-v3/code/demo_common_rig_04_motion.ipynb#X11sZmlsZQ%3D%3D?line=4'>5</a>\u001b[0m     p_root \u001b[39m=\u001b[39m sample_p_roots[\u001b[39m0\u001b[39m,tick,:] \u001b[39m# [3]\u001b[39;00m\n\u001b[1;32m      <a href='vscode-notebook-cell:/Users/yoonbyung/Dev/yet-another-mujoco-tutorial-v3/code/demo_common_rig_04_motion.ipynb#X11sZmlsZQ%3D%3D?line=5'>6</a>\u001b[0m     env\u001b[39m.\u001b[39mset_p_root(root_name\u001b[39m=\u001b[39m\u001b[39m'\u001b[39m\u001b[39mbase\u001b[39m\u001b[39m'\u001b[39m,p\u001b[39m=\u001b[39mp_root)\n",
      "\u001b[0;31mIndexError\u001b[0m: too many indices for array: array is 2-dimensional, but 3 were indexed"
     ]
    }
   ],
   "source": [
    "p_rfoot_traj = np.zeros((L,3))\n",
    "p_lfoot_traj = np.zeros((L,3))\n",
    "for tick in range(L):\n",
    "    q = sample_qs[0,tick,:] # [35]\n",
    "    p_root = sample_p_roots[0,tick,:] # [3]\n",
    "    env.set_p_root(root_name='base',p=p_root)\n",
    "    env.forward(q=q,joint_idxs=joint_idxs_fwd)\n",
    "    # Append\n",
    "    p_rfoot_traj[tick,:] = env.get_p_geom(geom_name='rfoot')\n",
    "    p_lfoot_traj[tick,:] = env.get_p_geom(geom_name='lfoot')"
   ]
  },
  {
   "cell_type": "code",
   "execution_count": 11,
   "id": "2f155cfa",
   "metadata": {},
   "outputs": [
    {
     "ename": "IndexError",
     "evalue": "too many indices for array: array is 2-dimensional, but 3 were indexed",
     "output_type": "error",
     "traceback": [
      "\u001b[0;31m---------------------------------------------------------------------------\u001b[0m",
      "\u001b[0;31mIndexError\u001b[0m                                Traceback (most recent call last)",
      "\u001b[1;32m/Users/yoonbyung/Dev/yet-another-mujoco-tutorial-v3/code/demo_common_rig_04_motion.ipynb 셀 10\u001b[0m in \u001b[0;36m<cell line: 9>\u001b[0;34m()\u001b[0m\n\u001b[1;32m      <a href='vscode-notebook-cell:/Users/yoonbyung/Dev/yet-another-mujoco-tutorial-v3/code/demo_common_rig_04_motion.ipynb#X12sZmlsZQ%3D%3D?line=7'>8</a>\u001b[0m p_lfoot_centered_traj \u001b[39m=\u001b[39m np\u001b[39m.\u001b[39mzeros((L,\u001b[39m3\u001b[39m))\n\u001b[1;32m      <a href='vscode-notebook-cell:/Users/yoonbyung/Dev/yet-another-mujoco-tutorial-v3/code/demo_common_rig_04_motion.ipynb#X12sZmlsZQ%3D%3D?line=8'>9</a>\u001b[0m \u001b[39mwhile\u001b[39;00m env\u001b[39m.\u001b[39mis_viewer_alive():\n\u001b[1;32m     <a href='vscode-notebook-cell:/Users/yoonbyung/Dev/yet-another-mujoco-tutorial-v3/code/demo_common_rig_04_motion.ipynb#X12sZmlsZQ%3D%3D?line=9'>10</a>\u001b[0m     \n\u001b[1;32m     <a href='vscode-notebook-cell:/Users/yoonbyung/Dev/yet-another-mujoco-tutorial-v3/code/demo_common_rig_04_motion.ipynb#X12sZmlsZQ%3D%3D?line=10'>11</a>\u001b[0m     \u001b[39m# Update\u001b[39;00m\n\u001b[0;32m---> <a href='vscode-notebook-cell:/Users/yoonbyung/Dev/yet-another-mujoco-tutorial-v3/code/demo_common_rig_04_motion.ipynb#X12sZmlsZQ%3D%3D?line=11'>12</a>\u001b[0m     q \u001b[39m=\u001b[39m sample_qs[\u001b[39m0\u001b[39;49m,tick,:] \u001b[39m# [35]\u001b[39;00m\n\u001b[1;32m     <a href='vscode-notebook-cell:/Users/yoonbyung/Dev/yet-another-mujoco-tutorial-v3/code/demo_common_rig_04_motion.ipynb#X12sZmlsZQ%3D%3D?line=12'>13</a>\u001b[0m     p_root \u001b[39m=\u001b[39m sample_p_roots[\u001b[39m0\u001b[39m,tick,:] \u001b[39m# [3]\u001b[39;00m\n\u001b[1;32m     <a href='vscode-notebook-cell:/Users/yoonbyung/Dev/yet-another-mujoco-tutorial-v3/code/demo_common_rig_04_motion.ipynb#X12sZmlsZQ%3D%3D?line=13'>14</a>\u001b[0m     p_cfoot \u001b[39m=\u001b[39m \u001b[39m0.5\u001b[39m\u001b[39m*\u001b[39m(p_rfoot_traj[tick,:]\u001b[39m+\u001b[39mp_lfoot_traj[tick,:])\n",
      "\u001b[0;31mIndexError\u001b[0m: too many indices for array: array is 2-dimensional, but 3 were indexed"
     ]
    }
   ],
   "source": [
    "# Initialize MuJoCo viewer\n",
    "env.init_viewer(viewer_title='Common Rig',viewer_width=1200,viewer_height=800,\n",
    "                viewer_hide_menus=True)\n",
    "env.update_viewer(azimuth=152,distance=3.0,elevation=-30,lookat=[0.02,-0.03,0.8])\n",
    "env.reset()\n",
    "tick = 0\n",
    "p_rfoot_centered_traj = np.zeros((L,3))\n",
    "p_lfoot_centered_traj = np.zeros((L,3))\n",
    "while env.is_viewer_alive():\n",
    "    \n",
    "    # Update\n",
    "    q = sample_qs[0,tick,:] # [35]\n",
    "    p_root = sample_p_roots[0,tick,:] # [3]\n",
    "    p_cfoot = 0.5*(p_rfoot_traj[tick,:]+p_lfoot_traj[tick,:])\n",
    "    env.set_p_root(root_name='base',p=p_root-p_cfoot+np.array([0,0,0.02]))\n",
    "    env.forward(q=q,joint_idxs=joint_idxs_fwd)\n",
    "    \n",
    "    # Append translated foot traj\n",
    "    p_rfoot_centered_traj[tick,:] = env.get_p_geom(geom_name='rfoot')\n",
    "    p_lfoot_centered_traj[tick,:] = env.get_p_geom(geom_name='lfoot')\n",
    "    \n",
    "    # Render\n",
    "    if env.loop_every(tick_every=1):\n",
    "        # Plot world frame\n",
    "        env.plot_T(p=np.zeros(3),R=np.eye(3,3),\n",
    "                   PLOT_AXIS=True,axis_len=0.5,axis_width=0.005)\n",
    "        env.plot_T(p=np.array([0,0,0.5]),R=np.eye(3,3),\n",
    "                   PLOT_AXIS=False,label=\"tick:[%d]\"%(tick))\n",
    "        # Plot foot\n",
    "        env.plot_geom_T(geom_name='rfoot',axis_len=0.3)\n",
    "        env.plot_geom_T(geom_name='lfoot',axis_len=0.3)\n",
    "        # Plot revolute joints with arrow\n",
    "        env.plot_joint_axis(axis_len=0.1,axis_r=0.01)    \n",
    "        env.render()\n",
    "        \n",
    "    # Increase tick\n",
    "    if tick==(L-1): tick = 0\n",
    "    else: tick = tick + 1\n",
    "# Close MuJoCo viewer\n",
    "env.close_viewer()\n",
    "print (\"Done.\")"
   ]
  },
  {
   "cell_type": "markdown",
   "id": "6e0c865b",
   "metadata": {},
   "source": [
    "### Solve IK for two feet"
   ]
  },
  {
   "cell_type": "code",
   "execution_count": null,
   "id": "a7aeb8d7",
   "metadata": {},
   "outputs": [
    {
     "name": "stdout",
     "output_type": "stream",
     "text": [
      "Done.\n"
     ]
    }
   ],
   "source": [
    "p_trgt_rfoot = np.average(p_rfoot_centered_traj,axis=0)\n",
    "p_trgt_lfoot = np.average(p_lfoot_centered_traj,axis=0)\n",
    "R_trgt_rfoot = rpy2r(np.radians([0,0,0]))\n",
    "R_trgt_lfoot = rpy2r(np.radians([0,0,0]))\n",
    "# Initialize MuJoCo viewer\n",
    "env.init_viewer(viewer_title='Common Rig',viewer_width=1200,viewer_height=800,\n",
    "                viewer_hide_menus=True)\n",
    "env.update_viewer(azimuth=152,distance=3.0,elevation=-30,lookat=[0.02,-0.03,0.8])\n",
    "env.reset()\n",
    "while env.is_viewer_alive():\n",
    "    # Update\n",
    "    q = sample_qs[0,tick,:] # [35]\n",
    "    p_root = sample_p_roots[0,tick,:] # [3]\n",
    "    p_cfoot = 0.5*(p_rfoot_traj[tick,:]+p_lfoot_traj[tick,:])\n",
    "    env.set_p_root(root_name='base',p=p_root-p_cfoot+np.array([0,0,0.02]))\n",
    "    env.forward(q=q,joint_idxs=joint_idxs_fwd)\n",
    "    \n",
    "    # Solve IK\n",
    "    ik_geom_names = ['rfoot','lfoot']\n",
    "    ik_p_trgts = [p_trgt_rfoot,p_trgt_lfoot]\n",
    "    ik_R_trgts = [R_trgt_rfoot,R_trgt_lfoot]\n",
    "    err_traj = np.zeros(30)\n",
    "    for ik_tick in range(30):\n",
    "        J_list,ik_err_list = [],[]\n",
    "        for ik_idx,ik_geom_name in enumerate(ik_geom_names):\n",
    "            ik_p_trgt = ik_p_trgts[ik_idx]\n",
    "            ik_R_trgt = ik_R_trgts[ik_idx]\n",
    "            J,ik_err = env.get_ik_ingredients_geom(\n",
    "                geom_name=ik_geom_name,p_trgt=ik_p_trgt,R_trgt=ik_R_trgt,\n",
    "                IK_P=True,IK_R=True)\n",
    "            J_list.append(J)\n",
    "            ik_err_list.append(ik_err)\n",
    "        J_stack      = np.vstack(J_list)\n",
    "        ik_err_stack = np.hstack(ik_err_list)\n",
    "        err_traj[ik_tick] = np.max(np.abs(ik_err_stack))\n",
    "        dq = env.damped_ls(J_stack,ik_err_stack,stepsize=1,eps=1e-2,th=np.radians(1.0))\n",
    "        q = q + dq[joint_idxs_jac]\n",
    "        env.forward(q=q,joint_idxs=joint_idxs_fwd)\n",
    "        \n",
    "    # Render\n",
    "    if env.loop_every(tick_every=1):\n",
    "        # Plot world frame\n",
    "        env.plot_T(p=np.zeros(3),R=np.eye(3,3),\n",
    "                   PLOT_AXIS=True,axis_len=0.5,axis_width=0.005)\n",
    "        env.plot_T(p=np.array([0,0,0.5]),R=np.eye(3,3),\n",
    "                   PLOT_AXIS=False,label=\"tick:[%d]\"%(tick))\n",
    "        # Plot foot\n",
    "        env.plot_geom_T(geom_name='rfoot',axis_len=0.3)\n",
    "        env.plot_geom_T(geom_name='lfoot',axis_len=0.3)\n",
    "        # Plot revolute joints with arrow\n",
    "        env.plot_joint_axis(axis_len=0.1,axis_r=0.01)    \n",
    "        env.render()\n",
    "        \n",
    "    # Increase tick\n",
    "    if tick==(L-1): tick = 0\n",
    "    else: tick = tick + 1\n",
    "# Close MuJoCo viewer\n",
    "env.close_viewer()\n",
    "print (\"Done.\")"
   ]
  },
  {
   "cell_type": "code",
   "execution_count": null,
   "id": "04c7fc86",
   "metadata": {},
   "outputs": [],
   "source": []
  }
 ],
 "metadata": {
  "kernelspec": {
   "display_name": "Python 3 (ipykernel)",
   "language": "python",
   "name": "python3"
  },
  "language_info": {
   "codemirror_mode": {
    "name": "ipython",
    "version": 3
   },
   "file_extension": ".py",
   "mimetype": "text/x-python",
   "name": "python",
   "nbconvert_exporter": "python",
   "pygments_lexer": "ipython3",
   "version": "3.9.12"
  }
 },
 "nbformat": 4,
 "nbformat_minor": 5
}
